{
 "cells": [
  {
   "cell_type": "markdown",
   "id": "8c55ca10",
   "metadata": {},
   "source": [
    "# Linear Regression"
   ]
  },
  {
   "cell_type": "markdown",
   "id": "5d418fbf",
   "metadata": {},
   "source": [
    "# Housing Price Dataset"
   ]
  },
  {
   "cell_type": "markdown",
   "id": "65bdefa5",
   "metadata": {},
   "source": [
    "### Load Data"
   ]
  },
  {
   "cell_type": "code",
   "execution_count": 2,
   "id": "8f7e0386",
   "metadata": {},
   "outputs": [],
   "source": [
    "# import the needed libraries\n",
    "import pandas as pd     # Data manipulation and analysis\n",
    "import numpy as np      # Numerical operations and working with arrays\n",
    "import matplotlib.pyplot as plt  # Data visualization with basic plots\n",
    "import seaborn as sns   # Statistical data visualization, built on top of matplotlib\n",
    "from sklearn.model_selection import train_test_split  # Splitting datasets into training and testing sets\n",
    "from sklearn.preprocessing import StandardScaler, OneHotEncoder  # Scaling features and encoding categorical variables\n",
    "from sklearn.linear_model import LinearRegression  # Implementing linear regression model\n",
    "from sklearn.metrics import mean_squared_error, mean_absolute_error, r2_score  # Evaluating regression model performance"
   ]
  },
  {
   "cell_type": "code",
   "execution_count": 3,
   "id": "a53ad29b",
   "metadata": {},
   "outputs": [
    {
     "name": "stdout",
     "output_type": "stream",
     "text": [
      "C:\\Users\\jahan\n"
     ]
    }
   ],
   "source": [
    "# import the 'os' module to read the csv file \n",
    "import os\n",
    "print(os.getcwd())"
   ]
  },
  {
   "cell_type": "code",
   "execution_count": 4,
   "id": "f37b4a84",
   "metadata": {},
   "outputs": [],
   "source": [
    "# Load the Housing data (csv file)\n",
    "# Use a raw string: Prefix the file path with r to treat the backslashes as literal characters.\n",
    "data = pd.read_csv(r'C:\\Users\\jahan\\OneDrive\\Documents\\TeachingMachineLearning_CityColleges\\data sets\\Housing.csv')"
   ]
  },
  {
   "cell_type": "markdown",
   "id": "ba1a0ded",
   "metadata": {},
   "source": [
    "### Initialize Exploration "
   ]
  },
  {
   "cell_type": "code",
   "execution_count": 5,
   "id": "7ce334e4",
   "metadata": {},
   "outputs": [
    {
     "name": "stdout",
     "output_type": "stream",
     "text": [
      "Data Information:\n",
      "<class 'pandas.core.frame.DataFrame'>\n",
      "RangeIndex: 545 entries, 0 to 544\n",
      "Data columns (total 13 columns):\n",
      " #   Column            Non-Null Count  Dtype \n",
      "---  ------            --------------  ----- \n",
      " 0   price             545 non-null    int64 \n",
      " 1   area              545 non-null    int64 \n",
      " 2   bedrooms          545 non-null    int64 \n",
      " 3   bathrooms         545 non-null    int64 \n",
      " 4   stories           545 non-null    int64 \n",
      " 5   mainroad          545 non-null    object\n",
      " 6   guestroom         545 non-null    object\n",
      " 7   basement          545 non-null    object\n",
      " 8   hotwaterheating   545 non-null    object\n",
      " 9   airconditioning   545 non-null    object\n",
      " 10  parking           545 non-null    int64 \n",
      " 11  prefarea          545 non-null    object\n",
      " 12  furnishingstatus  545 non-null    object\n",
      "dtypes: int64(6), object(7)\n",
      "memory usage: 55.5+ KB\n",
      "None\n"
     ]
    }
   ],
   "source": [
    "# step 1:\n",
    "# checking the data structure with data.info()\n",
    "print(\"Data Information:\")\n",
    "print(data.info())"
   ]
  },
  {
   "cell_type": "code",
   "execution_count": 6,
   "id": "6f094024",
   "metadata": {},
   "outputs": [
    {
     "name": "stdout",
     "output_type": "stream",
     "text": [
      "Data Description:\n",
      "              price          area    bedrooms   bathrooms     stories  \\\n",
      "count  5.450000e+02    545.000000  545.000000  545.000000  545.000000   \n",
      "mean   4.766729e+06   5150.541284    2.965138    1.286239    1.805505   \n",
      "std    1.870440e+06   2170.141023    0.738064    0.502470    0.867492   \n",
      "min    1.750000e+06   1650.000000    1.000000    1.000000    1.000000   \n",
      "25%    3.430000e+06   3600.000000    2.000000    1.000000    1.000000   \n",
      "50%    4.340000e+06   4600.000000    3.000000    1.000000    2.000000   \n",
      "75%    5.740000e+06   6360.000000    3.000000    2.000000    2.000000   \n",
      "max    1.330000e+07  16200.000000    6.000000    4.000000    4.000000   \n",
      "\n",
      "          parking  \n",
      "count  545.000000  \n",
      "mean     0.693578  \n",
      "std      0.861586  \n",
      "min      0.000000  \n",
      "25%      0.000000  \n",
      "50%      0.000000  \n",
      "75%      1.000000  \n",
      "max      3.000000  \n"
     ]
    }
   ],
   "source": [
    "# step 2: Understanding Data Statistics with data.describe()\n",
    "print(\"Data Description:\")\n",
    "print(data.describe())"
   ]
  },
  {
   "cell_type": "code",
   "execution_count": 7,
   "id": "58c9515f",
   "metadata": {},
   "outputs": [
    {
     "data": {
      "text/html": [
       "<div>\n",
       "<style scoped>\n",
       "    .dataframe tbody tr th:only-of-type {\n",
       "        vertical-align: middle;\n",
       "    }\n",
       "\n",
       "    .dataframe tbody tr th {\n",
       "        vertical-align: top;\n",
       "    }\n",
       "\n",
       "    .dataframe thead th {\n",
       "        text-align: right;\n",
       "    }\n",
       "</style>\n",
       "<table border=\"1\" class=\"dataframe\">\n",
       "  <thead>\n",
       "    <tr style=\"text-align: right;\">\n",
       "      <th></th>\n",
       "      <th>mainroad</th>\n",
       "      <th>guestroom</th>\n",
       "      <th>basement</th>\n",
       "      <th>hotwaterheating</th>\n",
       "      <th>airconditioning</th>\n",
       "      <th>prefarea</th>\n",
       "      <th>furnishingstatus</th>\n",
       "    </tr>\n",
       "  </thead>\n",
       "  <tbody>\n",
       "    <tr>\n",
       "      <th>count</th>\n",
       "      <td>545</td>\n",
       "      <td>545</td>\n",
       "      <td>545</td>\n",
       "      <td>545</td>\n",
       "      <td>545</td>\n",
       "      <td>545</td>\n",
       "      <td>545</td>\n",
       "    </tr>\n",
       "    <tr>\n",
       "      <th>unique</th>\n",
       "      <td>2</td>\n",
       "      <td>2</td>\n",
       "      <td>2</td>\n",
       "      <td>2</td>\n",
       "      <td>2</td>\n",
       "      <td>2</td>\n",
       "      <td>3</td>\n",
       "    </tr>\n",
       "    <tr>\n",
       "      <th>top</th>\n",
       "      <td>yes</td>\n",
       "      <td>no</td>\n",
       "      <td>no</td>\n",
       "      <td>no</td>\n",
       "      <td>no</td>\n",
       "      <td>no</td>\n",
       "      <td>semi-furnished</td>\n",
       "    </tr>\n",
       "    <tr>\n",
       "      <th>freq</th>\n",
       "      <td>468</td>\n",
       "      <td>448</td>\n",
       "      <td>354</td>\n",
       "      <td>520</td>\n",
       "      <td>373</td>\n",
       "      <td>417</td>\n",
       "      <td>227</td>\n",
       "    </tr>\n",
       "  </tbody>\n",
       "</table>\n",
       "</div>"
      ],
      "text/plain": [
       "       mainroad guestroom basement hotwaterheating airconditioning prefarea  \\\n",
       "count       545       545      545             545             545      545   \n",
       "unique        2         2        2               2               2        2   \n",
       "top         yes        no       no              no              no       no   \n",
       "freq        468       448      354             520             373      417   \n",
       "\n",
       "       furnishingstatus  \n",
       "count               545  \n",
       "unique                3  \n",
       "top      semi-furnished  \n",
       "freq                227  "
      ]
     },
     "execution_count": 7,
     "metadata": {},
     "output_type": "execute_result"
    }
   ],
   "source": [
    "data.describe(include=[\"O\"])"
   ]
  },
  {
   "cell_type": "markdown",
   "id": "9a842cf4",
   "metadata": {},
   "source": [
    "### Handling Missing Values"
   ]
  },
  {
   "cell_type": "code",
   "execution_count": 7,
   "id": "998416c7",
   "metadata": {},
   "outputs": [],
   "source": [
    "# step 1. introduce the problem of missing values: the missing values can lead to biased results or errors in analysis if not addressed properly.\n",
    "# Handling missing values are essential in data preprocessing."
   ]
  },
  {
   "cell_type": "code",
   "execution_count": 8,
   "id": "354bf145",
   "metadata": {},
   "outputs": [
    {
     "name": "stdout",
     "output_type": "stream",
     "text": [
      "Missing values in each column:\n",
      "price               0\n",
      "area                0\n",
      "bedrooms            0\n",
      "bathrooms           0\n",
      "stories             0\n",
      "mainroad            0\n",
      "guestroom           0\n",
      "basement            0\n",
      "hotwaterheating     0\n",
      "airconditioning     0\n",
      "parking             0\n",
      "prefarea            0\n",
      "furnishingstatus    0\n",
      "dtype: int64\n"
     ]
    }
   ],
   "source": [
    "# step 2: Detecting missing values by using .isnull.sum()\n",
    "# .isnull().sum(): checks missing values in each column\n",
    "\n",
    "print(\"Missing values in each column:\")\n",
    "print(data.isnull().sum())"
   ]
  },
  {
   "cell_type": "code",
   "execution_count": 9,
   "id": "cf5d031c",
   "metadata": {},
   "outputs": [],
   "source": [
    "# if there is any missing value: \n",
    "# step 3.\n",
    " #use .dropna() function to remove all rows with missing values.\n",
    "   # 1. data = data.dropna()\n",
    "   # 2. we use this method when the number of missing values is small.\n",
    "# fillna(); Imputing missing values: \n",
    "         # 1. Filling Missing values;\n",
    "         # 2. Filling with median or mode as .median() or mode()[0]."
   ]
  },
  {
   "cell_type": "markdown",
   "id": "3968b5ca",
   "metadata": {},
   "source": [
    "### Encoding categorical variables (if necessary)"
   ]
  },
  {
   "cell_type": "code",
   "execution_count": 10,
   "id": "aa16cfc5",
   "metadata": {},
   "outputs": [],
   "source": [
    "# encoding categorical variables into a numerical format\n",
    "# In this dataset, we have some categorical variables like: mainroad, guestroom, basement, hotwaterheating, airconditioning, prefarea, furnishingstatus"
   ]
  },
  {
   "cell_type": "code",
   "execution_count": 11,
   "id": "fec53e70",
   "metadata": {},
   "outputs": [],
   "source": [
    "# step 1: why we are using One-Hot encoding:\n",
    "#One-Hot Encoding: Best for binary and nominal categorical variables, which covers all the categorical variables in this dataset.\n",
    "# Label/Ordinal Encoding: Not needed, as no ordinal variables are present in Housing dataset."
   ]
  },
  {
   "cell_type": "code",
   "execution_count": 10,
   "id": "9ea6624c",
   "metadata": {},
   "outputs": [
    {
     "name": "stdout",
     "output_type": "stream",
     "text": [
      "        price  area  bedrooms  bathrooms  stories  parking  mainroad_yes  \\\n",
      "0    13300000  7420         4          2        3        2          True   \n",
      "1    12250000  8960         4          4        4        3          True   \n",
      "2    12250000  9960         3          2        2        2          True   \n",
      "3    12215000  7500         4          2        2        3          True   \n",
      "4    11410000  7420         4          1        2        2          True   \n",
      "..        ...   ...       ...        ...      ...      ...           ...   \n",
      "540   1820000  3000         2          1        1        2          True   \n",
      "541   1767150  2400         3          1        1        0         False   \n",
      "542   1750000  3620         2          1        1        0          True   \n",
      "543   1750000  2910         3          1        1        0         False   \n",
      "544   1750000  3850         3          1        2        0          True   \n",
      "\n",
      "     guestroom_yes  basement_yes  hotwaterheating_yes  airconditioning_yes  \\\n",
      "0            False         False                False                 True   \n",
      "1            False         False                False                 True   \n",
      "2            False          True                False                False   \n",
      "3            False          True                False                 True   \n",
      "4             True          True                False                 True   \n",
      "..             ...           ...                  ...                  ...   \n",
      "540          False          True                False                False   \n",
      "541          False         False                False                False   \n",
      "542          False         False                False                False   \n",
      "543          False         False                False                False   \n",
      "544          False         False                False                False   \n",
      "\n",
      "     prefarea_yes  furnishingstatus_semi-furnished  \\\n",
      "0            True                            False   \n",
      "1           False                            False   \n",
      "2            True                             True   \n",
      "3            True                            False   \n",
      "4           False                            False   \n",
      "..            ...                              ...   \n",
      "540         False                            False   \n",
      "541         False                             True   \n",
      "542         False                            False   \n",
      "543         False                            False   \n",
      "544         False                            False   \n",
      "\n",
      "     furnishingstatus_unfurnished  \n",
      "0                           False  \n",
      "1                           False  \n",
      "2                           False  \n",
      "3                           False  \n",
      "4                           False  \n",
      "..                            ...  \n",
      "540                          True  \n",
      "541                         False  \n",
      "542                          True  \n",
      "543                         False  \n",
      "544                          True  \n",
      "\n",
      "[545 rows x 14 columns]\n"
     ]
    }
   ],
   "source": [
    "# step 2: Using One-Hot Encoding with pd.get_dummies()\n",
    "# using that function creates new binary (0 or 1)columns for each category in a categorical variables.\n",
    "\n",
    "data = pd.get_dummies(data, drop_first=True)\n",
    "print(data)"
   ]
  },
  {
   "cell_type": "code",
   "execution_count": 13,
   "id": "2747d3b8",
   "metadata": {},
   "outputs": [],
   "source": [
    "# what is drop_first=True? using this code avoids multicollinearity."
   ]
  },
  {
   "cell_type": "markdown",
   "id": "dce9ec1f",
   "metadata": {},
   "source": [
    "### Seperating features and target"
   ]
  },
  {
   "cell_type": "code",
   "execution_count": 14,
   "id": "854a6691",
   "metadata": {},
   "outputs": [],
   "source": [
    "# step 1: Seperating features and target\n",
    "  # features(X): the input data to make predictions. (independent variables)\n",
    "    # target(y): the output data that you are trying to predict. (dependent variable)"
   ]
  },
  {
   "cell_type": "code",
   "execution_count": 11,
   "id": "053a5730",
   "metadata": {},
   "outputs": [],
   "source": [
    "# step 2: separate the features(x)\n",
    " # syntax: data.drop('target_column', axis =1): \n",
    "    # the drop() function is used to remove the target column from the dataset.\n",
    "    # the argument axis = 1 specifies that we want to drop a column not raw. \n",
    "    \n",
    "X = data.drop('price', axis =1)"
   ]
  },
  {
   "cell_type": "code",
   "execution_count": 12,
   "id": "dac9cd16",
   "metadata": {},
   "outputs": [],
   "source": [
    " # step 3: seperating the target variable(y)\n",
    "    #syntax: y = data['target_column']\n",
    "    \n",
    " y = data['price']   "
   ]
  },
  {
   "cell_type": "code",
   "execution_count": 13,
   "id": "145b27b0",
   "metadata": {},
   "outputs": [
    {
     "name": "stdout",
     "output_type": "stream",
     "text": [
      "     area  bedrooms  bathrooms  stories  parking  mainroad_yes  guestroom_yes  \\\n",
      "0    7420         4          2        3        2          True          False   \n",
      "1    8960         4          4        4        3          True          False   \n",
      "2    9960         3          2        2        2          True          False   \n",
      "3    7500         4          2        2        3          True          False   \n",
      "4    7420         4          1        2        2          True           True   \n",
      "..    ...       ...        ...      ...      ...           ...            ...   \n",
      "540  3000         2          1        1        2          True          False   \n",
      "541  2400         3          1        1        0         False          False   \n",
      "542  3620         2          1        1        0          True          False   \n",
      "543  2910         3          1        1        0         False          False   \n",
      "544  3850         3          1        2        0          True          False   \n",
      "\n",
      "     basement_yes  hotwaterheating_yes  airconditioning_yes  prefarea_yes  \\\n",
      "0           False                False                 True          True   \n",
      "1           False                False                 True         False   \n",
      "2            True                False                False          True   \n",
      "3            True                False                 True          True   \n",
      "4            True                False                 True         False   \n",
      "..            ...                  ...                  ...           ...   \n",
      "540          True                False                False         False   \n",
      "541         False                False                False         False   \n",
      "542         False                False                False         False   \n",
      "543         False                False                False         False   \n",
      "544         False                False                False         False   \n",
      "\n",
      "     furnishingstatus_semi-furnished  furnishingstatus_unfurnished  \n",
      "0                              False                         False  \n",
      "1                              False                         False  \n",
      "2                               True                         False  \n",
      "3                              False                         False  \n",
      "4                              False                         False  \n",
      "..                               ...                           ...  \n",
      "540                            False                          True  \n",
      "541                             True                         False  \n",
      "542                            False                          True  \n",
      "543                            False                         False  \n",
      "544                            False                          True  \n",
      "\n",
      "[545 rows x 13 columns]\n"
     ]
    }
   ],
   "source": [
    "print(X)"
   ]
  },
  {
   "cell_type": "code",
   "execution_count": 14,
   "id": "01d90743",
   "metadata": {},
   "outputs": [
    {
     "name": "stdout",
     "output_type": "stream",
     "text": [
      "0      13300000\n",
      "1      12250000\n",
      "2      12250000\n",
      "3      12215000\n",
      "4      11410000\n",
      "         ...   \n",
      "540     1820000\n",
      "541     1767150\n",
      "542     1750000\n",
      "543     1750000\n",
      "544     1750000\n",
      "Name: price, Length: 545, dtype: int64\n"
     ]
    }
   ],
   "source": [
    "print(y) # this is the output that our machine learning model will try to predict based on features."
   ]
  },
  {
   "cell_type": "code",
   "execution_count": 18,
   "id": "0a6ccfb5",
   "metadata": {},
   "outputs": [],
   "source": [
    "# step 4: understand why we do this"
   ]
  },
  {
   "cell_type": "code",
   "execution_count": 15,
   "id": "fa324ca8",
   "metadata": {},
   "outputs": [
    {
     "data": {
      "text/plain": [
       "Index(['price', 'area', 'bedrooms', 'bathrooms', 'stories', 'parking',\n",
       "       'mainroad_yes', 'guestroom_yes', 'basement_yes', 'hotwaterheating_yes',\n",
       "       'airconditioning_yes', 'prefarea_yes',\n",
       "       'furnishingstatus_semi-furnished', 'furnishingstatus_unfurnished'],\n",
       "      dtype='object')"
      ]
     },
     "execution_count": 15,
     "metadata": {},
     "output_type": "execute_result"
    }
   ],
   "source": [
    "data.columns # name of columns"
   ]
  },
  {
   "cell_type": "code",
   "execution_count": 16,
   "id": "cb4c4b6e",
   "metadata": {},
   "outputs": [
    {
     "name": "stdout",
     "output_type": "stream",
     "text": [
      "<class 'pandas.core.frame.DataFrame'>\n",
      "RangeIndex: 545 entries, 0 to 544\n",
      "Data columns (total 14 columns):\n",
      " #   Column                           Non-Null Count  Dtype\n",
      "---  ------                           --------------  -----\n",
      " 0   price                            545 non-null    int64\n",
      " 1   area                             545 non-null    int64\n",
      " 2   bedrooms                         545 non-null    int64\n",
      " 3   bathrooms                        545 non-null    int64\n",
      " 4   stories                          545 non-null    int64\n",
      " 5   parking                          545 non-null    int64\n",
      " 6   mainroad_yes                     545 non-null    bool \n",
      " 7   guestroom_yes                    545 non-null    bool \n",
      " 8   basement_yes                     545 non-null    bool \n",
      " 9   hotwaterheating_yes              545 non-null    bool \n",
      " 10  airconditioning_yes              545 non-null    bool \n",
      " 11  prefarea_yes                     545 non-null    bool \n",
      " 12  furnishingstatus_semi-furnished  545 non-null    bool \n",
      " 13  furnishingstatus_unfurnished     545 non-null    bool \n",
      "dtypes: bool(8), int64(6)\n",
      "memory usage: 29.9 KB\n",
      "None\n"
     ]
    }
   ],
   "source": [
    "print(data.info())"
   ]
  },
  {
   "cell_type": "code",
   "execution_count": 17,
   "id": "de543867",
   "metadata": {},
   "outputs": [
    {
     "data": {
      "text/plain": [
       "227"
      ]
     },
     "execution_count": 17,
     "metadata": {},
     "output_type": "execute_result"
    }
   ],
   "source": [
    "data['furnishingstatus_semi-furnished'].sum() # number of furnishingstatu_semifurnished"
   ]
  },
  {
   "cell_type": "code",
   "execution_count": 18,
   "id": "5191b0a4",
   "metadata": {},
   "outputs": [
    {
     "data": {
      "text/plain": [
       "furnishingstatus_semi-furnished\n",
       "False    318\n",
       "True     227\n",
       "Name: count, dtype: int64"
      ]
     },
     "execution_count": 18,
     "metadata": {},
     "output_type": "execute_result"
    }
   ],
   "source": [
    "data['furnishingstatus_semi-furnished'].value_counts()\n",
    "# this displays how many times each furnishing status appears in the dataset"
   ]
  },
  {
   "cell_type": "markdown",
   "id": "6f9946af",
   "metadata": {},
   "source": [
    "#### step 5: Accessing a single column or multiple columns from the dataframe:"
   ]
  },
  {
   "cell_type": "code",
   "execution_count": 19,
   "id": "568f1aad",
   "metadata": {},
   "outputs": [
    {
     "name": "stdout",
     "output_type": "stream",
     "text": [
      "bedrooms_column_data\n",
      "0      4\n",
      "1      4\n",
      "2      3\n",
      "3      4\n",
      "4      4\n",
      "      ..\n",
      "540    2\n",
      "541    3\n",
      "542    2\n",
      "543    3\n",
      "544    3\n",
      "Name: bedrooms, Length: 545, dtype: int64\n"
     ]
    }
   ],
   "source": [
    "# syntax for single column: column_data = data['column_name']\n",
    "bedrooms_column_data = data['bedrooms']\n",
    "print('bedrooms_column_data')\n",
    "print(bedrooms_column_data)"
   ]
  },
  {
   "cell_type": "code",
   "execution_count": 20,
   "id": "40053ec4",
   "metadata": {},
   "outputs": [
    {
     "name": "stdout",
     "output_type": "stream",
     "text": [
      "selected_columns:\n",
      "        price  area  bedrooms\n",
      "0    13300000  7420         4\n",
      "1    12250000  8960         4\n",
      "2    12250000  9960         3\n",
      "3    12215000  7500         4\n",
      "4    11410000  7420         4\n",
      "..        ...   ...       ...\n",
      "540   1820000  3000         2\n",
      "541   1767150  2400         3\n",
      "542   1750000  3620         2\n",
      "543   1750000  2910         3\n",
      "544   1750000  3850         3\n",
      "\n",
      "[545 rows x 3 columns]\n"
     ]
    }
   ],
   "source": [
    "#syntax for multiple columns: \n",
    "selected_columns = data[['price', 'area', 'bedrooms']]\n",
    "print('selected_columns:')\n",
    "print(selected_columns)"
   ]
  },
  {
   "cell_type": "markdown",
   "id": "fe432fbe",
   "metadata": {},
   "source": [
    "#### step 6: Dropping specific columns"
   ]
  },
  {
   "cell_type": "code",
   "execution_count": 21,
   "id": "ed5a8008",
   "metadata": {},
   "outputs": [
    {
     "name": "stdout",
     "output_type": "stream",
     "text": [
      "data_without_price:\n",
      "     area  bedrooms  bathrooms  stories  parking  mainroad_yes  guestroom_yes  \\\n",
      "0    7420         4          2        3        2          True          False   \n",
      "1    8960         4          4        4        3          True          False   \n",
      "2    9960         3          2        2        2          True          False   \n",
      "3    7500         4          2        2        3          True          False   \n",
      "4    7420         4          1        2        2          True           True   \n",
      "..    ...       ...        ...      ...      ...           ...            ...   \n",
      "540  3000         2          1        1        2          True          False   \n",
      "541  2400         3          1        1        0         False          False   \n",
      "542  3620         2          1        1        0          True          False   \n",
      "543  2910         3          1        1        0         False          False   \n",
      "544  3850         3          1        2        0          True          False   \n",
      "\n",
      "     basement_yes  hotwaterheating_yes  airconditioning_yes  prefarea_yes  \\\n",
      "0           False                False                 True          True   \n",
      "1           False                False                 True         False   \n",
      "2            True                False                False          True   \n",
      "3            True                False                 True          True   \n",
      "4            True                False                 True         False   \n",
      "..            ...                  ...                  ...           ...   \n",
      "540          True                False                False         False   \n",
      "541         False                False                False         False   \n",
      "542         False                False                False         False   \n",
      "543         False                False                False         False   \n",
      "544         False                False                False         False   \n",
      "\n",
      "     furnishingstatus_semi-furnished  furnishingstatus_unfurnished  \n",
      "0                              False                         False  \n",
      "1                              False                         False  \n",
      "2                               True                         False  \n",
      "3                              False                         False  \n",
      "4                              False                         False  \n",
      "..                               ...                           ...  \n",
      "540                            False                          True  \n",
      "541                             True                         False  \n",
      "542                            False                          True  \n",
      "543                            False                         False  \n",
      "544                            False                          True  \n",
      "\n",
      "[545 rows x 13 columns]\n"
     ]
    }
   ],
   "source": [
    "# dropping a single column\n",
    " # axis = 1: it means you are removing a column not a row\n",
    "\n",
    "data_without_price = data.drop('price', axis =1)\n",
    "print('data_without_price:')\n",
    "print(data_without_price)"
   ]
  },
  {
   "cell_type": "code",
   "execution_count": 22,
   "id": "ad7541ff",
   "metadata": {},
   "outputs": [],
   "source": [
    "# droping multiple columns:\n",
    "data_without_columns = data.drop(['price', 'area'], axis = 1)"
   ]
  },
  {
   "cell_type": "code",
   "execution_count": 23,
   "id": "d1bd1aad",
   "metadata": {},
   "outputs": [
    {
     "name": "stdout",
     "output_type": "stream",
     "text": [
      "data_without_columns(price and area):\n",
      "     bedrooms  bathrooms  stories  parking  mainroad_yes  guestroom_yes  \\\n",
      "0           4          2        3        2          True          False   \n",
      "1           4          4        4        3          True          False   \n",
      "2           3          2        2        2          True          False   \n",
      "3           4          2        2        3          True          False   \n",
      "4           4          1        2        2          True           True   \n",
      "..        ...        ...      ...      ...           ...            ...   \n",
      "540         2          1        1        2          True          False   \n",
      "541         3          1        1        0         False          False   \n",
      "542         2          1        1        0          True          False   \n",
      "543         3          1        1        0         False          False   \n",
      "544         3          1        2        0          True          False   \n",
      "\n",
      "     basement_yes  hotwaterheating_yes  airconditioning_yes  prefarea_yes  \\\n",
      "0           False                False                 True          True   \n",
      "1           False                False                 True         False   \n",
      "2            True                False                False          True   \n",
      "3            True                False                 True          True   \n",
      "4            True                False                 True         False   \n",
      "..            ...                  ...                  ...           ...   \n",
      "540          True                False                False         False   \n",
      "541         False                False                False         False   \n",
      "542         False                False                False         False   \n",
      "543         False                False                False         False   \n",
      "544         False                False                False         False   \n",
      "\n",
      "     furnishingstatus_semi-furnished  furnishingstatus_unfurnished  \n",
      "0                              False                         False  \n",
      "1                              False                         False  \n",
      "2                               True                         False  \n",
      "3                              False                         False  \n",
      "4                              False                         False  \n",
      "..                               ...                           ...  \n",
      "540                            False                          True  \n",
      "541                             True                         False  \n",
      "542                            False                          True  \n",
      "543                            False                         False  \n",
      "544                            False                          True  \n",
      "\n",
      "[545 rows x 12 columns]\n"
     ]
    }
   ],
   "source": [
    "print('data_without_columns(price and area):')\n",
    "print(data_without_columns)"
   ]
  },
  {
   "cell_type": "markdown",
   "id": "9f4ce5f0",
   "metadata": {},
   "source": [
    "#### Renaming columns"
   ]
  },
  {
   "cell_type": "code",
   "execution_count": 24,
   "id": "934cafc7",
   "metadata": {},
   "outputs": [],
   "source": [
    "# syntax: data = data.rename(columns = {'old_column_name': 'new_column_name'})\n",
    "data = data.rename(columns = {'price': 'house_price'})"
   ]
  },
  {
   "cell_type": "code",
   "execution_count": 25,
   "id": "e6896e56",
   "metadata": {},
   "outputs": [
    {
     "data": {
      "text/html": [
       "<div>\n",
       "<style scoped>\n",
       "    .dataframe tbody tr th:only-of-type {\n",
       "        vertical-align: middle;\n",
       "    }\n",
       "\n",
       "    .dataframe tbody tr th {\n",
       "        vertical-align: top;\n",
       "    }\n",
       "\n",
       "    .dataframe thead th {\n",
       "        text-align: right;\n",
       "    }\n",
       "</style>\n",
       "<table border=\"1\" class=\"dataframe\">\n",
       "  <thead>\n",
       "    <tr style=\"text-align: right;\">\n",
       "      <th></th>\n",
       "      <th>house_price</th>\n",
       "      <th>area</th>\n",
       "      <th>bedrooms</th>\n",
       "      <th>bathrooms</th>\n",
       "      <th>stories</th>\n",
       "      <th>parking</th>\n",
       "      <th>mainroad_yes</th>\n",
       "      <th>guestroom_yes</th>\n",
       "      <th>basement_yes</th>\n",
       "      <th>hotwaterheating_yes</th>\n",
       "      <th>airconditioning_yes</th>\n",
       "      <th>prefarea_yes</th>\n",
       "      <th>furnishingstatus_semi-furnished</th>\n",
       "      <th>furnishingstatus_unfurnished</th>\n",
       "    </tr>\n",
       "  </thead>\n",
       "  <tbody>\n",
       "    <tr>\n",
       "      <th>0</th>\n",
       "      <td>13300000</td>\n",
       "      <td>7420</td>\n",
       "      <td>4</td>\n",
       "      <td>2</td>\n",
       "      <td>3</td>\n",
       "      <td>2</td>\n",
       "      <td>True</td>\n",
       "      <td>False</td>\n",
       "      <td>False</td>\n",
       "      <td>False</td>\n",
       "      <td>True</td>\n",
       "      <td>True</td>\n",
       "      <td>False</td>\n",
       "      <td>False</td>\n",
       "    </tr>\n",
       "    <tr>\n",
       "      <th>1</th>\n",
       "      <td>12250000</td>\n",
       "      <td>8960</td>\n",
       "      <td>4</td>\n",
       "      <td>4</td>\n",
       "      <td>4</td>\n",
       "      <td>3</td>\n",
       "      <td>True</td>\n",
       "      <td>False</td>\n",
       "      <td>False</td>\n",
       "      <td>False</td>\n",
       "      <td>True</td>\n",
       "      <td>False</td>\n",
       "      <td>False</td>\n",
       "      <td>False</td>\n",
       "    </tr>\n",
       "    <tr>\n",
       "      <th>2</th>\n",
       "      <td>12250000</td>\n",
       "      <td>9960</td>\n",
       "      <td>3</td>\n",
       "      <td>2</td>\n",
       "      <td>2</td>\n",
       "      <td>2</td>\n",
       "      <td>True</td>\n",
       "      <td>False</td>\n",
       "      <td>True</td>\n",
       "      <td>False</td>\n",
       "      <td>False</td>\n",
       "      <td>True</td>\n",
       "      <td>True</td>\n",
       "      <td>False</td>\n",
       "    </tr>\n",
       "    <tr>\n",
       "      <th>3</th>\n",
       "      <td>12215000</td>\n",
       "      <td>7500</td>\n",
       "      <td>4</td>\n",
       "      <td>2</td>\n",
       "      <td>2</td>\n",
       "      <td>3</td>\n",
       "      <td>True</td>\n",
       "      <td>False</td>\n",
       "      <td>True</td>\n",
       "      <td>False</td>\n",
       "      <td>True</td>\n",
       "      <td>True</td>\n",
       "      <td>False</td>\n",
       "      <td>False</td>\n",
       "    </tr>\n",
       "    <tr>\n",
       "      <th>4</th>\n",
       "      <td>11410000</td>\n",
       "      <td>7420</td>\n",
       "      <td>4</td>\n",
       "      <td>1</td>\n",
       "      <td>2</td>\n",
       "      <td>2</td>\n",
       "      <td>True</td>\n",
       "      <td>True</td>\n",
       "      <td>True</td>\n",
       "      <td>False</td>\n",
       "      <td>True</td>\n",
       "      <td>False</td>\n",
       "      <td>False</td>\n",
       "      <td>False</td>\n",
       "    </tr>\n",
       "    <tr>\n",
       "      <th>...</th>\n",
       "      <td>...</td>\n",
       "      <td>...</td>\n",
       "      <td>...</td>\n",
       "      <td>...</td>\n",
       "      <td>...</td>\n",
       "      <td>...</td>\n",
       "      <td>...</td>\n",
       "      <td>...</td>\n",
       "      <td>...</td>\n",
       "      <td>...</td>\n",
       "      <td>...</td>\n",
       "      <td>...</td>\n",
       "      <td>...</td>\n",
       "      <td>...</td>\n",
       "    </tr>\n",
       "    <tr>\n",
       "      <th>540</th>\n",
       "      <td>1820000</td>\n",
       "      <td>3000</td>\n",
       "      <td>2</td>\n",
       "      <td>1</td>\n",
       "      <td>1</td>\n",
       "      <td>2</td>\n",
       "      <td>True</td>\n",
       "      <td>False</td>\n",
       "      <td>True</td>\n",
       "      <td>False</td>\n",
       "      <td>False</td>\n",
       "      <td>False</td>\n",
       "      <td>False</td>\n",
       "      <td>True</td>\n",
       "    </tr>\n",
       "    <tr>\n",
       "      <th>541</th>\n",
       "      <td>1767150</td>\n",
       "      <td>2400</td>\n",
       "      <td>3</td>\n",
       "      <td>1</td>\n",
       "      <td>1</td>\n",
       "      <td>0</td>\n",
       "      <td>False</td>\n",
       "      <td>False</td>\n",
       "      <td>False</td>\n",
       "      <td>False</td>\n",
       "      <td>False</td>\n",
       "      <td>False</td>\n",
       "      <td>True</td>\n",
       "      <td>False</td>\n",
       "    </tr>\n",
       "    <tr>\n",
       "      <th>542</th>\n",
       "      <td>1750000</td>\n",
       "      <td>3620</td>\n",
       "      <td>2</td>\n",
       "      <td>1</td>\n",
       "      <td>1</td>\n",
       "      <td>0</td>\n",
       "      <td>True</td>\n",
       "      <td>False</td>\n",
       "      <td>False</td>\n",
       "      <td>False</td>\n",
       "      <td>False</td>\n",
       "      <td>False</td>\n",
       "      <td>False</td>\n",
       "      <td>True</td>\n",
       "    </tr>\n",
       "    <tr>\n",
       "      <th>543</th>\n",
       "      <td>1750000</td>\n",
       "      <td>2910</td>\n",
       "      <td>3</td>\n",
       "      <td>1</td>\n",
       "      <td>1</td>\n",
       "      <td>0</td>\n",
       "      <td>False</td>\n",
       "      <td>False</td>\n",
       "      <td>False</td>\n",
       "      <td>False</td>\n",
       "      <td>False</td>\n",
       "      <td>False</td>\n",
       "      <td>False</td>\n",
       "      <td>False</td>\n",
       "    </tr>\n",
       "    <tr>\n",
       "      <th>544</th>\n",
       "      <td>1750000</td>\n",
       "      <td>3850</td>\n",
       "      <td>3</td>\n",
       "      <td>1</td>\n",
       "      <td>2</td>\n",
       "      <td>0</td>\n",
       "      <td>True</td>\n",
       "      <td>False</td>\n",
       "      <td>False</td>\n",
       "      <td>False</td>\n",
       "      <td>False</td>\n",
       "      <td>False</td>\n",
       "      <td>False</td>\n",
       "      <td>True</td>\n",
       "    </tr>\n",
       "  </tbody>\n",
       "</table>\n",
       "<p>545 rows × 14 columns</p>\n",
       "</div>"
      ],
      "text/plain": [
       "     house_price  area  bedrooms  bathrooms  stories  parking  mainroad_yes  \\\n",
       "0       13300000  7420         4          2        3        2          True   \n",
       "1       12250000  8960         4          4        4        3          True   \n",
       "2       12250000  9960         3          2        2        2          True   \n",
       "3       12215000  7500         4          2        2        3          True   \n",
       "4       11410000  7420         4          1        2        2          True   \n",
       "..           ...   ...       ...        ...      ...      ...           ...   \n",
       "540      1820000  3000         2          1        1        2          True   \n",
       "541      1767150  2400         3          1        1        0         False   \n",
       "542      1750000  3620         2          1        1        0          True   \n",
       "543      1750000  2910         3          1        1        0         False   \n",
       "544      1750000  3850         3          1        2        0          True   \n",
       "\n",
       "     guestroom_yes  basement_yes  hotwaterheating_yes  airconditioning_yes  \\\n",
       "0            False         False                False                 True   \n",
       "1            False         False                False                 True   \n",
       "2            False          True                False                False   \n",
       "3            False          True                False                 True   \n",
       "4             True          True                False                 True   \n",
       "..             ...           ...                  ...                  ...   \n",
       "540          False          True                False                False   \n",
       "541          False         False                False                False   \n",
       "542          False         False                False                False   \n",
       "543          False         False                False                False   \n",
       "544          False         False                False                False   \n",
       "\n",
       "     prefarea_yes  furnishingstatus_semi-furnished  \\\n",
       "0            True                            False   \n",
       "1           False                            False   \n",
       "2            True                             True   \n",
       "3            True                            False   \n",
       "4           False                            False   \n",
       "..            ...                              ...   \n",
       "540         False                            False   \n",
       "541         False                             True   \n",
       "542         False                            False   \n",
       "543         False                            False   \n",
       "544         False                            False   \n",
       "\n",
       "     furnishingstatus_unfurnished  \n",
       "0                           False  \n",
       "1                           False  \n",
       "2                           False  \n",
       "3                           False  \n",
       "4                           False  \n",
       "..                            ...  \n",
       "540                          True  \n",
       "541                         False  \n",
       "542                          True  \n",
       "543                         False  \n",
       "544                          True  \n",
       "\n",
       "[545 rows x 14 columns]"
      ]
     },
     "execution_count": 25,
     "metadata": {},
     "output_type": "execute_result"
    }
   ],
   "source": [
    "data"
   ]
  },
  {
   "cell_type": "code",
   "execution_count": 26,
   "id": "10bf5c33",
   "metadata": {},
   "outputs": [
    {
     "data": {
      "text/html": [
       "<div>\n",
       "<style scoped>\n",
       "    .dataframe tbody tr th:only-of-type {\n",
       "        vertical-align: middle;\n",
       "    }\n",
       "\n",
       "    .dataframe tbody tr th {\n",
       "        vertical-align: top;\n",
       "    }\n",
       "\n",
       "    .dataframe thead th {\n",
       "        text-align: right;\n",
       "    }\n",
       "</style>\n",
       "<table border=\"1\" class=\"dataframe\">\n",
       "  <thead>\n",
       "    <tr style=\"text-align: right;\">\n",
       "      <th></th>\n",
       "      <th>house_price</th>\n",
       "      <th>area</th>\n",
       "      <th>number of bedrooms</th>\n",
       "      <th>bathrooms</th>\n",
       "      <th>stories</th>\n",
       "      <th>parking</th>\n",
       "      <th>mainroad_yes</th>\n",
       "      <th>guestroom_yes</th>\n",
       "      <th>basement_yes</th>\n",
       "      <th>hotwaterheating_yes</th>\n",
       "      <th>airconditioning_yes</th>\n",
       "      <th>prefarea_yes</th>\n",
       "      <th>furnishingstatus_semi-furnished</th>\n",
       "      <th>furnishingstatus_unfurnished</th>\n",
       "    </tr>\n",
       "  </thead>\n",
       "  <tbody>\n",
       "    <tr>\n",
       "      <th>0</th>\n",
       "      <td>13300000</td>\n",
       "      <td>7420</td>\n",
       "      <td>4</td>\n",
       "      <td>2</td>\n",
       "      <td>3</td>\n",
       "      <td>2</td>\n",
       "      <td>True</td>\n",
       "      <td>False</td>\n",
       "      <td>False</td>\n",
       "      <td>False</td>\n",
       "      <td>True</td>\n",
       "      <td>True</td>\n",
       "      <td>False</td>\n",
       "      <td>False</td>\n",
       "    </tr>\n",
       "    <tr>\n",
       "      <th>1</th>\n",
       "      <td>12250000</td>\n",
       "      <td>8960</td>\n",
       "      <td>4</td>\n",
       "      <td>4</td>\n",
       "      <td>4</td>\n",
       "      <td>3</td>\n",
       "      <td>True</td>\n",
       "      <td>False</td>\n",
       "      <td>False</td>\n",
       "      <td>False</td>\n",
       "      <td>True</td>\n",
       "      <td>False</td>\n",
       "      <td>False</td>\n",
       "      <td>False</td>\n",
       "    </tr>\n",
       "    <tr>\n",
       "      <th>2</th>\n",
       "      <td>12250000</td>\n",
       "      <td>9960</td>\n",
       "      <td>3</td>\n",
       "      <td>2</td>\n",
       "      <td>2</td>\n",
       "      <td>2</td>\n",
       "      <td>True</td>\n",
       "      <td>False</td>\n",
       "      <td>True</td>\n",
       "      <td>False</td>\n",
       "      <td>False</td>\n",
       "      <td>True</td>\n",
       "      <td>True</td>\n",
       "      <td>False</td>\n",
       "    </tr>\n",
       "    <tr>\n",
       "      <th>3</th>\n",
       "      <td>12215000</td>\n",
       "      <td>7500</td>\n",
       "      <td>4</td>\n",
       "      <td>2</td>\n",
       "      <td>2</td>\n",
       "      <td>3</td>\n",
       "      <td>True</td>\n",
       "      <td>False</td>\n",
       "      <td>True</td>\n",
       "      <td>False</td>\n",
       "      <td>True</td>\n",
       "      <td>True</td>\n",
       "      <td>False</td>\n",
       "      <td>False</td>\n",
       "    </tr>\n",
       "    <tr>\n",
       "      <th>4</th>\n",
       "      <td>11410000</td>\n",
       "      <td>7420</td>\n",
       "      <td>4</td>\n",
       "      <td>1</td>\n",
       "      <td>2</td>\n",
       "      <td>2</td>\n",
       "      <td>True</td>\n",
       "      <td>True</td>\n",
       "      <td>True</td>\n",
       "      <td>False</td>\n",
       "      <td>True</td>\n",
       "      <td>False</td>\n",
       "      <td>False</td>\n",
       "      <td>False</td>\n",
       "    </tr>\n",
       "    <tr>\n",
       "      <th>...</th>\n",
       "      <td>...</td>\n",
       "      <td>...</td>\n",
       "      <td>...</td>\n",
       "      <td>...</td>\n",
       "      <td>...</td>\n",
       "      <td>...</td>\n",
       "      <td>...</td>\n",
       "      <td>...</td>\n",
       "      <td>...</td>\n",
       "      <td>...</td>\n",
       "      <td>...</td>\n",
       "      <td>...</td>\n",
       "      <td>...</td>\n",
       "      <td>...</td>\n",
       "    </tr>\n",
       "    <tr>\n",
       "      <th>540</th>\n",
       "      <td>1820000</td>\n",
       "      <td>3000</td>\n",
       "      <td>2</td>\n",
       "      <td>1</td>\n",
       "      <td>1</td>\n",
       "      <td>2</td>\n",
       "      <td>True</td>\n",
       "      <td>False</td>\n",
       "      <td>True</td>\n",
       "      <td>False</td>\n",
       "      <td>False</td>\n",
       "      <td>False</td>\n",
       "      <td>False</td>\n",
       "      <td>True</td>\n",
       "    </tr>\n",
       "    <tr>\n",
       "      <th>541</th>\n",
       "      <td>1767150</td>\n",
       "      <td>2400</td>\n",
       "      <td>3</td>\n",
       "      <td>1</td>\n",
       "      <td>1</td>\n",
       "      <td>0</td>\n",
       "      <td>False</td>\n",
       "      <td>False</td>\n",
       "      <td>False</td>\n",
       "      <td>False</td>\n",
       "      <td>False</td>\n",
       "      <td>False</td>\n",
       "      <td>True</td>\n",
       "      <td>False</td>\n",
       "    </tr>\n",
       "    <tr>\n",
       "      <th>542</th>\n",
       "      <td>1750000</td>\n",
       "      <td>3620</td>\n",
       "      <td>2</td>\n",
       "      <td>1</td>\n",
       "      <td>1</td>\n",
       "      <td>0</td>\n",
       "      <td>True</td>\n",
       "      <td>False</td>\n",
       "      <td>False</td>\n",
       "      <td>False</td>\n",
       "      <td>False</td>\n",
       "      <td>False</td>\n",
       "      <td>False</td>\n",
       "      <td>True</td>\n",
       "    </tr>\n",
       "    <tr>\n",
       "      <th>543</th>\n",
       "      <td>1750000</td>\n",
       "      <td>2910</td>\n",
       "      <td>3</td>\n",
       "      <td>1</td>\n",
       "      <td>1</td>\n",
       "      <td>0</td>\n",
       "      <td>False</td>\n",
       "      <td>False</td>\n",
       "      <td>False</td>\n",
       "      <td>False</td>\n",
       "      <td>False</td>\n",
       "      <td>False</td>\n",
       "      <td>False</td>\n",
       "      <td>False</td>\n",
       "    </tr>\n",
       "    <tr>\n",
       "      <th>544</th>\n",
       "      <td>1750000</td>\n",
       "      <td>3850</td>\n",
       "      <td>3</td>\n",
       "      <td>1</td>\n",
       "      <td>2</td>\n",
       "      <td>0</td>\n",
       "      <td>True</td>\n",
       "      <td>False</td>\n",
       "      <td>False</td>\n",
       "      <td>False</td>\n",
       "      <td>False</td>\n",
       "      <td>False</td>\n",
       "      <td>False</td>\n",
       "      <td>True</td>\n",
       "    </tr>\n",
       "  </tbody>\n",
       "</table>\n",
       "<p>545 rows × 14 columns</p>\n",
       "</div>"
      ],
      "text/plain": [
       "     house_price  area  number of bedrooms  bathrooms  stories  parking  \\\n",
       "0       13300000  7420                   4          2        3        2   \n",
       "1       12250000  8960                   4          4        4        3   \n",
       "2       12250000  9960                   3          2        2        2   \n",
       "3       12215000  7500                   4          2        2        3   \n",
       "4       11410000  7420                   4          1        2        2   \n",
       "..           ...   ...                 ...        ...      ...      ...   \n",
       "540      1820000  3000                   2          1        1        2   \n",
       "541      1767150  2400                   3          1        1        0   \n",
       "542      1750000  3620                   2          1        1        0   \n",
       "543      1750000  2910                   3          1        1        0   \n",
       "544      1750000  3850                   3          1        2        0   \n",
       "\n",
       "     mainroad_yes  guestroom_yes  basement_yes  hotwaterheating_yes  \\\n",
       "0            True          False         False                False   \n",
       "1            True          False         False                False   \n",
       "2            True          False          True                False   \n",
       "3            True          False          True                False   \n",
       "4            True           True          True                False   \n",
       "..            ...            ...           ...                  ...   \n",
       "540          True          False          True                False   \n",
       "541         False          False         False                False   \n",
       "542          True          False         False                False   \n",
       "543         False          False         False                False   \n",
       "544          True          False         False                False   \n",
       "\n",
       "     airconditioning_yes  prefarea_yes  furnishingstatus_semi-furnished  \\\n",
       "0                   True          True                            False   \n",
       "1                   True         False                            False   \n",
       "2                  False          True                             True   \n",
       "3                   True          True                            False   \n",
       "4                   True         False                            False   \n",
       "..                   ...           ...                              ...   \n",
       "540                False         False                            False   \n",
       "541                False         False                             True   \n",
       "542                False         False                            False   \n",
       "543                False         False                            False   \n",
       "544                False         False                            False   \n",
       "\n",
       "     furnishingstatus_unfurnished  \n",
       "0                           False  \n",
       "1                           False  \n",
       "2                           False  \n",
       "3                           False  \n",
       "4                           False  \n",
       "..                            ...  \n",
       "540                          True  \n",
       "541                         False  \n",
       "542                          True  \n",
       "543                         False  \n",
       "544                          True  \n",
       "\n",
       "[545 rows x 14 columns]"
      ]
     },
     "execution_count": 26,
     "metadata": {},
     "output_type": "execute_result"
    }
   ],
   "source": [
    "data = data.rename(columns = {'price': 'house_price', 'bedrooms': 'number of bedrooms'})\n",
    "data"
   ]
  },
  {
   "cell_type": "markdown",
   "id": "f4cbc2e6",
   "metadata": {},
   "source": [
    "#### Selecting columns based on data type"
   ]
  },
  {
   "cell_type": "code",
   "execution_count": 27,
   "id": "a6548ee6",
   "metadata": {},
   "outputs": [],
   "source": [
    "# For example suppose that you want to select only the numerical columns or categorical columns\n",
    "# use the function select_dtypes()"
   ]
  },
  {
   "cell_type": "code",
   "execution_count": 17,
   "id": "79019577",
   "metadata": {},
   "outputs": [
    {
     "data": {
      "text/html": [
       "<div>\n",
       "<style scoped>\n",
       "    .dataframe tbody tr th:only-of-type {\n",
       "        vertical-align: middle;\n",
       "    }\n",
       "\n",
       "    .dataframe tbody tr th {\n",
       "        vertical-align: top;\n",
       "    }\n",
       "\n",
       "    .dataframe thead th {\n",
       "        text-align: right;\n",
       "    }\n",
       "</style>\n",
       "<table border=\"1\" class=\"dataframe\">\n",
       "  <thead>\n",
       "    <tr style=\"text-align: right;\">\n",
       "      <th></th>\n",
       "      <th>price</th>\n",
       "      <th>area</th>\n",
       "      <th>bedrooms</th>\n",
       "      <th>bathrooms</th>\n",
       "      <th>stories</th>\n",
       "      <th>parking</th>\n",
       "    </tr>\n",
       "  </thead>\n",
       "  <tbody>\n",
       "    <tr>\n",
       "      <th>0</th>\n",
       "      <td>13300000</td>\n",
       "      <td>7420</td>\n",
       "      <td>4</td>\n",
       "      <td>2</td>\n",
       "      <td>3</td>\n",
       "      <td>2</td>\n",
       "    </tr>\n",
       "    <tr>\n",
       "      <th>1</th>\n",
       "      <td>12250000</td>\n",
       "      <td>8960</td>\n",
       "      <td>4</td>\n",
       "      <td>4</td>\n",
       "      <td>4</td>\n",
       "      <td>3</td>\n",
       "    </tr>\n",
       "    <tr>\n",
       "      <th>2</th>\n",
       "      <td>12250000</td>\n",
       "      <td>9960</td>\n",
       "      <td>3</td>\n",
       "      <td>2</td>\n",
       "      <td>2</td>\n",
       "      <td>2</td>\n",
       "    </tr>\n",
       "    <tr>\n",
       "      <th>3</th>\n",
       "      <td>12215000</td>\n",
       "      <td>7500</td>\n",
       "      <td>4</td>\n",
       "      <td>2</td>\n",
       "      <td>2</td>\n",
       "      <td>3</td>\n",
       "    </tr>\n",
       "    <tr>\n",
       "      <th>4</th>\n",
       "      <td>11410000</td>\n",
       "      <td>7420</td>\n",
       "      <td>4</td>\n",
       "      <td>1</td>\n",
       "      <td>2</td>\n",
       "      <td>2</td>\n",
       "    </tr>\n",
       "    <tr>\n",
       "      <th>...</th>\n",
       "      <td>...</td>\n",
       "      <td>...</td>\n",
       "      <td>...</td>\n",
       "      <td>...</td>\n",
       "      <td>...</td>\n",
       "      <td>...</td>\n",
       "    </tr>\n",
       "    <tr>\n",
       "      <th>540</th>\n",
       "      <td>1820000</td>\n",
       "      <td>3000</td>\n",
       "      <td>2</td>\n",
       "      <td>1</td>\n",
       "      <td>1</td>\n",
       "      <td>2</td>\n",
       "    </tr>\n",
       "    <tr>\n",
       "      <th>541</th>\n",
       "      <td>1767150</td>\n",
       "      <td>2400</td>\n",
       "      <td>3</td>\n",
       "      <td>1</td>\n",
       "      <td>1</td>\n",
       "      <td>0</td>\n",
       "    </tr>\n",
       "    <tr>\n",
       "      <th>542</th>\n",
       "      <td>1750000</td>\n",
       "      <td>3620</td>\n",
       "      <td>2</td>\n",
       "      <td>1</td>\n",
       "      <td>1</td>\n",
       "      <td>0</td>\n",
       "    </tr>\n",
       "    <tr>\n",
       "      <th>543</th>\n",
       "      <td>1750000</td>\n",
       "      <td>2910</td>\n",
       "      <td>3</td>\n",
       "      <td>1</td>\n",
       "      <td>1</td>\n",
       "      <td>0</td>\n",
       "    </tr>\n",
       "    <tr>\n",
       "      <th>544</th>\n",
       "      <td>1750000</td>\n",
       "      <td>3850</td>\n",
       "      <td>3</td>\n",
       "      <td>1</td>\n",
       "      <td>2</td>\n",
       "      <td>0</td>\n",
       "    </tr>\n",
       "  </tbody>\n",
       "</table>\n",
       "<p>545 rows × 6 columns</p>\n",
       "</div>"
      ],
      "text/plain": [
       "        price  area  bedrooms  bathrooms  stories  parking\n",
       "0    13300000  7420         4          2        3        2\n",
       "1    12250000  8960         4          4        4        3\n",
       "2    12250000  9960         3          2        2        2\n",
       "3    12215000  7500         4          2        2        3\n",
       "4    11410000  7420         4          1        2        2\n",
       "..        ...   ...       ...        ...      ...      ...\n",
       "540   1820000  3000         2          1        1        2\n",
       "541   1767150  2400         3          1        1        0\n",
       "542   1750000  3620         2          1        1        0\n",
       "543   1750000  2910         3          1        1        0\n",
       "544   1750000  3850         3          1        2        0\n",
       "\n",
       "[545 rows x 6 columns]"
      ]
     },
     "execution_count": 17,
     "metadata": {},
     "output_type": "execute_result"
    }
   ],
   "source": [
    "# 1. selecting numerical columns:\n",
    "numerical_columns = data.select_dtypes(include = ['int64', 'float64'])\n",
    "numerical_columns"
   ]
  },
  {
   "cell_type": "code",
   "execution_count": 18,
   "id": "338fb7c5",
   "metadata": {},
   "outputs": [
    {
     "data": {
      "text/html": [
       "<div>\n",
       "<style scoped>\n",
       "    .dataframe tbody tr th:only-of-type {\n",
       "        vertical-align: middle;\n",
       "    }\n",
       "\n",
       "    .dataframe tbody tr th {\n",
       "        vertical-align: top;\n",
       "    }\n",
       "\n",
       "    .dataframe thead th {\n",
       "        text-align: right;\n",
       "    }\n",
       "</style>\n",
       "<table border=\"1\" class=\"dataframe\">\n",
       "  <thead>\n",
       "    <tr style=\"text-align: right;\">\n",
       "      <th></th>\n",
       "    </tr>\n",
       "  </thead>\n",
       "  <tbody>\n",
       "    <tr>\n",
       "      <th>0</th>\n",
       "    </tr>\n",
       "    <tr>\n",
       "      <th>1</th>\n",
       "    </tr>\n",
       "    <tr>\n",
       "      <th>2</th>\n",
       "    </tr>\n",
       "    <tr>\n",
       "      <th>3</th>\n",
       "    </tr>\n",
       "    <tr>\n",
       "      <th>4</th>\n",
       "    </tr>\n",
       "    <tr>\n",
       "      <th>...</th>\n",
       "    </tr>\n",
       "    <tr>\n",
       "      <th>540</th>\n",
       "    </tr>\n",
       "    <tr>\n",
       "      <th>541</th>\n",
       "    </tr>\n",
       "    <tr>\n",
       "      <th>542</th>\n",
       "    </tr>\n",
       "    <tr>\n",
       "      <th>543</th>\n",
       "    </tr>\n",
       "    <tr>\n",
       "      <th>544</th>\n",
       "    </tr>\n",
       "  </tbody>\n",
       "</table>\n",
       "<p>545 rows × 0 columns</p>\n",
       "</div>"
      ],
      "text/plain": [
       "Empty DataFrame\n",
       "Columns: []\n",
       "Index: [0, 1, 2, 3, 4, 5, 6, 7, 8, 9, 10, 11, 12, 13, 14, 15, 16, 17, 18, 19, 20, 21, 22, 23, 24, 25, 26, 27, 28, 29, 30, 31, 32, 33, 34, 35, 36, 37, 38, 39, 40, 41, 42, 43, 44, 45, 46, 47, 48, 49, 50, 51, 52, 53, 54, 55, 56, 57, 58, 59, 60, 61, 62, 63, 64, 65, 66, 67, 68, 69, 70, 71, 72, 73, 74, 75, 76, 77, 78, 79, 80, 81, 82, 83, 84, 85, 86, 87, 88, 89, 90, 91, 92, 93, 94, 95, 96, 97, 98, 99, ...]\n",
       "\n",
       "[545 rows x 0 columns]"
      ]
     },
     "execution_count": 18,
     "metadata": {},
     "output_type": "execute_result"
    }
   ],
   "source": [
    "# 2. selecting categorical columns:\n",
    "categorical_columns = data.select_dtypes(include=['object']) \n",
    "categorical_columns\n",
    "# Data types that are typically considered object in pandas including:\n",
    "  # strings (text data)\n",
    "  # mixed datatypes (columns containing a mix of numbers and strings)\n",
    "  #Python objects (like lists, dictionaries, or other complex types)"
   ]
  },
  {
   "cell_type": "code",
   "execution_count": 19,
   "id": "c7c2f9cd",
   "metadata": {},
   "outputs": [
    {
     "data": {
      "text/plain": [
       "price                              int64\n",
       "area                               int64\n",
       "bedrooms                           int64\n",
       "bathrooms                          int64\n",
       "stories                            int64\n",
       "parking                            int64\n",
       "mainroad_yes                        bool\n",
       "guestroom_yes                       bool\n",
       "basement_yes                        bool\n",
       "hotwaterheating_yes                 bool\n",
       "airconditioning_yes                 bool\n",
       "prefarea_yes                        bool\n",
       "furnishingstatus_semi-furnished     bool\n",
       "furnishingstatus_unfurnished        bool\n",
       "dtype: object"
      ]
     },
     "execution_count": 19,
     "metadata": {},
     "output_type": "execute_result"
    }
   ],
   "source": [
    "# check the data types of each column \n",
    "data.dtypes"
   ]
  },
  {
   "cell_type": "markdown",
   "id": "8825599e",
   "metadata": {},
   "source": [
    "#### Reordering Columns"
   ]
  },
  {
   "cell_type": "code",
   "execution_count": 39,
   "id": "a08ea940",
   "metadata": {},
   "outputs": [],
   "source": [
    "# new_order\n",
    "new_order = ['area', 'bedrooms', 'price', 'bathrooms']\n",
    "data_new_order = data[new_order]"
   ]
  },
  {
   "cell_type": "code",
   "execution_count": 40,
   "id": "cd12fdbc",
   "metadata": {},
   "outputs": [
    {
     "name": "stdout",
     "output_type": "stream",
     "text": [
      "Index(['area', 'bedrooms', 'price', 'bathrooms'], dtype='object')\n"
     ]
    }
   ],
   "source": [
    "print(data_new_order.columns) \n",
    "# check the columns after Encoding"
   ]
  },
  {
   "cell_type": "code",
   "execution_count": 41,
   "id": "e73109a7",
   "metadata": {},
   "outputs": [
    {
     "data": {
      "text/plain": [
       "Index(['price', 'area', 'bedrooms', 'bathrooms', 'stories', 'parking',\n",
       "       'mainroad_yes', 'guestroom_yes', 'basement_yes', 'hotwaterheating_yes',\n",
       "       'airconditioning_yes', 'prefarea_yes',\n",
       "       'furnishingstatus_semi-furnished', 'furnishingstatus_unfurnished'],\n",
       "      dtype='object')"
      ]
     },
     "execution_count": 41,
     "metadata": {},
     "output_type": "execute_result"
    }
   ],
   "source": [
    "data.columns"
   ]
  },
  {
   "cell_type": "code",
   "execution_count": 43,
   "id": "8dfe5ef7",
   "metadata": {},
   "outputs": [
    {
     "data": {
      "text/html": [
       "<div>\n",
       "<style scoped>\n",
       "    .dataframe tbody tr th:only-of-type {\n",
       "        vertical-align: middle;\n",
       "    }\n",
       "\n",
       "    .dataframe tbody tr th {\n",
       "        vertical-align: top;\n",
       "    }\n",
       "\n",
       "    .dataframe thead th {\n",
       "        text-align: right;\n",
       "    }\n",
       "</style>\n",
       "<table border=\"1\" class=\"dataframe\">\n",
       "  <thead>\n",
       "    <tr style=\"text-align: right;\">\n",
       "      <th></th>\n",
       "      <th>area</th>\n",
       "      <th>bedrooms</th>\n",
       "      <th>price</th>\n",
       "      <th>bathrooms</th>\n",
       "    </tr>\n",
       "  </thead>\n",
       "  <tbody>\n",
       "    <tr>\n",
       "      <th>0</th>\n",
       "      <td>7420</td>\n",
       "      <td>4</td>\n",
       "      <td>13300000</td>\n",
       "      <td>2</td>\n",
       "    </tr>\n",
       "    <tr>\n",
       "      <th>1</th>\n",
       "      <td>8960</td>\n",
       "      <td>4</td>\n",
       "      <td>12250000</td>\n",
       "      <td>4</td>\n",
       "    </tr>\n",
       "    <tr>\n",
       "      <th>2</th>\n",
       "      <td>9960</td>\n",
       "      <td>3</td>\n",
       "      <td>12250000</td>\n",
       "      <td>2</td>\n",
       "    </tr>\n",
       "    <tr>\n",
       "      <th>3</th>\n",
       "      <td>7500</td>\n",
       "      <td>4</td>\n",
       "      <td>12215000</td>\n",
       "      <td>2</td>\n",
       "    </tr>\n",
       "    <tr>\n",
       "      <th>4</th>\n",
       "      <td>7420</td>\n",
       "      <td>4</td>\n",
       "      <td>11410000</td>\n",
       "      <td>1</td>\n",
       "    </tr>\n",
       "    <tr>\n",
       "      <th>...</th>\n",
       "      <td>...</td>\n",
       "      <td>...</td>\n",
       "      <td>...</td>\n",
       "      <td>...</td>\n",
       "    </tr>\n",
       "    <tr>\n",
       "      <th>540</th>\n",
       "      <td>3000</td>\n",
       "      <td>2</td>\n",
       "      <td>1820000</td>\n",
       "      <td>1</td>\n",
       "    </tr>\n",
       "    <tr>\n",
       "      <th>541</th>\n",
       "      <td>2400</td>\n",
       "      <td>3</td>\n",
       "      <td>1767150</td>\n",
       "      <td>1</td>\n",
       "    </tr>\n",
       "    <tr>\n",
       "      <th>542</th>\n",
       "      <td>3620</td>\n",
       "      <td>2</td>\n",
       "      <td>1750000</td>\n",
       "      <td>1</td>\n",
       "    </tr>\n",
       "    <tr>\n",
       "      <th>543</th>\n",
       "      <td>2910</td>\n",
       "      <td>3</td>\n",
       "      <td>1750000</td>\n",
       "      <td>1</td>\n",
       "    </tr>\n",
       "    <tr>\n",
       "      <th>544</th>\n",
       "      <td>3850</td>\n",
       "      <td>3</td>\n",
       "      <td>1750000</td>\n",
       "      <td>1</td>\n",
       "    </tr>\n",
       "  </tbody>\n",
       "</table>\n",
       "<p>545 rows × 4 columns</p>\n",
       "</div>"
      ],
      "text/plain": [
       "     area  bedrooms     price  bathrooms\n",
       "0    7420         4  13300000          2\n",
       "1    8960         4  12250000          4\n",
       "2    9960         3  12250000          2\n",
       "3    7500         4  12215000          2\n",
       "4    7420         4  11410000          1\n",
       "..    ...       ...       ...        ...\n",
       "540  3000         2   1820000          1\n",
       "541  2400         3   1767150          1\n",
       "542  3620         2   1750000          1\n",
       "543  2910         3   1750000          1\n",
       "544  3850         3   1750000          1\n",
       "\n",
       "[545 rows x 4 columns]"
      ]
     },
     "execution_count": 43,
     "metadata": {},
     "output_type": "execute_result"
    }
   ],
   "source": [
    "data_new_order"
   ]
  },
  {
   "cell_type": "markdown",
   "id": "ca8118bb",
   "metadata": {},
   "source": [
    "#### Filtering rows based on column values"
   ]
  },
  {
   "cell_type": "code",
   "execution_count": 79,
   "id": "9c6499df",
   "metadata": {},
   "outputs": [],
   "source": [
    "# Filtering rows where a column meet a condition \n",
    "filtered_data = data[data['price'] > 500000]"
   ]
  },
  {
   "cell_type": "code",
   "execution_count": 80,
   "id": "d87777e2",
   "metadata": {},
   "outputs": [
    {
     "name": "stdout",
     "output_type": "stream",
     "text": [
      "     area  bedrooms     price  bathrooms\n",
      "0    7420         4  13300000          2\n",
      "1    8960         4  12250000          4\n",
      "2    9960         3  12250000          2\n",
      "3    7500         4  12215000          2\n",
      "4    7420         4  11410000          1\n",
      "..    ...       ...       ...        ...\n",
      "540  3000         2   1820000          1\n",
      "541  2400         3   1767150          1\n",
      "542  3620         2   1750000          1\n",
      "543  2910         3   1750000          1\n",
      "544  3850         3   1750000          1\n",
      "\n",
      "[545 rows x 4 columns]\n"
     ]
    }
   ],
   "source": [
    "print(filtered_data)"
   ]
  },
  {
   "cell_type": "markdown",
   "id": "764a7aa3",
   "metadata": {},
   "source": [
    "### Feature Scaling:"
   ]
  },
  {
   "cell_type": "code",
   "execution_count": 36,
   "id": "44ad9db5",
   "metadata": {},
   "outputs": [],
   "source": [
    "# By scaling our features, we ensure that our linear regression model works more efficiently and gives us more accurate predictions. \n",
    "# Without scaling, features with larger ranges, like 'area', would dominate the model, and we might end up with skewed results. \n",
    "# After scaling, each feature has an equal chance of influencing the model’s predictions.\n",
    "\n",
    "# two common method to scale the features: Normalization vs. Standardization"
   ]
  },
  {
   "cell_type": "markdown",
   "id": "7e961fc1",
   "metadata": {},
   "source": [
    "#### Normalization"
   ]
  },
  {
   "cell_type": "code",
   "execution_count": 20,
   "id": "a9afff4b",
   "metadata": {},
   "outputs": [
    {
     "data": {
      "text/plain": [
       "array([[0.39656357, 0.6       , 0.33333333, ..., 1.        , 0.        ,\n",
       "        0.        ],\n",
       "       [0.5024055 , 0.6       , 1.        , ..., 0.        , 0.        ,\n",
       "        0.        ],\n",
       "       [0.57113402, 0.4       , 0.33333333, ..., 1.        , 1.        ,\n",
       "        0.        ],\n",
       "       ...,\n",
       "       [0.13539519, 0.2       , 0.        , ..., 0.        , 0.        ,\n",
       "        1.        ],\n",
       "       [0.08659794, 0.4       , 0.        , ..., 0.        , 0.        ,\n",
       "        0.        ],\n",
       "       [0.15120275, 0.4       , 0.        , ..., 0.        , 0.        ,\n",
       "        1.        ]])"
      ]
     },
     "execution_count": 20,
     "metadata": {},
     "output_type": "execute_result"
    }
   ],
   "source": [
    "# Normalization rescales the values of the features so that they fall within a specific range, typically between 0 and 1.\n",
    "from sklearn.preprocessing import MinMaxScaler\n",
    "\n",
    "# Initialize the MinMaxScaler\n",
    "scaler = MinMaxScaler()\n",
    "\n",
    "# Fit the scaler to the data and transform it\n",
    "X_normalized = scaler.fit_transform(X)\n",
    "# I do not run normalization cell, because I have already considered Linear Regression, and in this machine learning, standardization is prefered.\n",
    "X_normalized"
   ]
  },
  {
   "cell_type": "markdown",
   "id": "95e7a96a",
   "metadata": {},
   "source": [
    "#### Standardization"
   ]
  },
  {
   "cell_type": "code",
   "execution_count": 38,
   "id": "2fdf8f1e",
   "metadata": {},
   "outputs": [],
   "source": [
    "# Standardization scales the data to have a mean of 0 and a standard deviation of 1. It transforms the data based on the z-score."
   ]
  },
  {
   "cell_type": "code",
   "execution_count": 21,
   "id": "397bfc81",
   "metadata": {},
   "outputs": [],
   "source": [
    "#Implementing Standardization in the code\n",
    "# Initialize the scaler\n",
    "scaler = StandardScaler()\n",
    "\n",
    "# Fit the scaler to the data and transform it\n",
    "X_scaled =scaler.fit_transform(X)"
   ]
  },
  {
   "cell_type": "code",
   "execution_count": 22,
   "id": "1ff8698c",
   "metadata": {},
   "outputs": [
    {
     "name": "stdout",
     "output_type": "stream",
     "text": [
      "[[ 1.04672629  1.40341936  1.42181174 ...  1.80494113 -0.84488844\n",
      "  -0.6964292 ]\n",
      " [ 1.75700953  1.40341936  5.40580863 ... -0.55403469 -0.84488844\n",
      "  -0.6964292 ]\n",
      " [ 2.21823241  0.04727831  1.42181174 ...  1.80494113  1.18358821\n",
      "  -0.6964292 ]\n",
      " ...\n",
      " [-0.70592066 -1.30886273 -0.57018671 ... -0.55403469 -0.84488844\n",
      "   1.43589615]\n",
      " [-1.03338891  0.04727831 -0.57018671 ... -0.55403469 -0.84488844\n",
      "  -0.6964292 ]\n",
      " [-0.5998394   0.04727831 -0.57018671 ... -0.55403469 -0.84488844\n",
      "   1.43589615]]\n"
     ]
    }
   ],
   "source": [
    "print(X_scaled)"
   ]
  },
  {
   "cell_type": "code",
   "execution_count": null,
   "id": "19930061",
   "metadata": {},
   "outputs": [],
   "source": [
    "# Positive values are above the mean, negative values are below the mean, and values close to 0 are near the mean."
   ]
  },
  {
   "cell_type": "code",
   "execution_count": null,
   "id": "fafca377",
   "metadata": {},
   "outputs": [],
   "source": [
    "# Standardization doesn't limit values to between -1 and 1; it just scales them based on how they compare to the average."
   ]
  },
  {
   "cell_type": "markdown",
   "id": "6b34f7de",
   "metadata": {},
   "source": [
    "## Split the data into training and testing sets"
   ]
  },
  {
   "cell_type": "code",
   "execution_count": 23,
   "id": "05c37a6c",
   "metadata": {},
   "outputs": [],
   "source": [
    "#Split the data into training and testing sets\n",
    "X_train, X_test, y_train, y_test = train_test_split(X_scaled, y, test_size=0.2, random_state=42)"
   ]
  },
  {
   "cell_type": "code",
   "execution_count": 17,
   "id": "d043aad5",
   "metadata": {},
   "outputs": [],
   "source": [
    "# Parameters:\n",
    "# X_scaled: The scaled features (input data) after standardization.\n",
    "# y: The target variable (what you are trying to predict, like house prices).\n",
    "# test_size=0.2: This means 20% of the data will be used for testing, and 80% will be used for training the model.\n",
    "# random_state=42: This is a seed for randomization. Setting it ensures that the split is the same every time you run the code (for reproducibility)."
   ]
  },
  {
   "cell_type": "code",
   "execution_count": null,
   "id": "a17c81c6",
   "metadata": {},
   "outputs": [],
   "source": [
    "# Output Variables:\n",
    "# X_train: The training portion of the input data (80% of X_scaled).\n",
    "# X_test: The testing portion of the input data (20% of X_scaled).\n",
    "# y_train: The training portion of the target data (80% of y).\n",
    "# y_test: The testing portion of the target data (20% of y)."
   ]
  },
  {
   "cell_type": "code",
   "execution_count": 24,
   "id": "879c4026",
   "metadata": {},
   "outputs": [
    {
     "name": "stdout",
     "output_type": "stream",
     "text": [
      "x_train:\n",
      " [[ 0.3917898   0.04727831  1.42181174 ... -0.55403469 -0.84488844\n",
      "  -0.6964292 ]\n",
      " [ 0.94525725  0.04727831  1.42181174 ... -0.55403469  1.18358821\n",
      "  -0.6964292 ]\n",
      " [-0.61552098 -1.30886273 -0.57018671 ... -0.55403469 -0.84488844\n",
      "  -0.6964292 ]\n",
      " ...\n",
      " [-0.30004453  0.04727831  1.42181174 ... -0.55403469 -0.84488844\n",
      "  -0.6964292 ]\n",
      " [-0.51220705 -1.30886273 -0.57018671 ... -0.55403469 -0.84488844\n",
      "   1.43589615]\n",
      " [ 0.16117836  0.04727831  1.42181174 ... -0.55403469  1.18358821\n",
      "  -0.6964292 ]] \n",
      "X_test:\n",
      " [[ 0.34566751  1.40341936  1.42181174 ... -0.55403469 -0.84488844\n",
      "   1.43589615]\n",
      " [ 0.62240124  0.04727831  1.42181174 ...  1.80494113 -0.84488844\n",
      "  -0.6964292 ]\n",
      " [-0.51220705 -1.30886273 -0.57018671 ... -0.55403469  1.18358821\n",
      "  -0.6964292 ]\n",
      " ...\n",
      " [ 0.3917898   1.40341936  1.42181174 ... -0.55403469  1.18358821\n",
      "  -0.6964292 ]\n",
      " [ 0.3917898   0.04727831  1.42181174 ... -0.55403469  1.18358821\n",
      "  -0.6964292 ]\n",
      " [ 0.43791208  0.04727831  1.42181174 ...  1.80494113 -0.84488844\n",
      "  -0.6964292 ]] \n",
      "y_train:\n",
      " 46     7525000\n",
      "93     6300000\n",
      "335    3920000\n",
      "412    3430000\n",
      "471    3010000\n",
      "        ...   \n",
      "71     6755000\n",
      "106    6160000\n",
      "270    4340000\n",
      "435    3290000\n",
      "102    6195000\n",
      "Name: price, Length: 436, dtype: int64 \n",
      "y_test:\n",
      " 316    4060000\n",
      "77     6650000\n",
      "360    3710000\n",
      "90     6440000\n",
      "493    2800000\n",
      "        ...   \n",
      "15     9100000\n",
      "357    3773000\n",
      "39     7910000\n",
      "54     7350000\n",
      "155    5530000\n",
      "Name: price, Length: 109, dtype: int64\n"
     ]
    }
   ],
   "source": [
    "print('x_train:\\n',X_train, '\\nX_test:\\n', X_test, '\\ny_train:\\n', y_train , '\\ny_test:\\n', y_test)"
   ]
  },
  {
   "cell_type": "markdown",
   "id": "f72ff424",
   "metadata": {},
   "source": [
    "## Train the model"
   ]
  },
  {
   "cell_type": "code",
   "execution_count": 25,
   "id": "5b0ad78b",
   "metadata": {},
   "outputs": [
    {
     "data": {
      "text/html": [
       "<style>#sk-container-id-1 {color: black;}#sk-container-id-1 pre{padding: 0;}#sk-container-id-1 div.sk-toggleable {background-color: white;}#sk-container-id-1 label.sk-toggleable__label {cursor: pointer;display: block;width: 100%;margin-bottom: 0;padding: 0.3em;box-sizing: border-box;text-align: center;}#sk-container-id-1 label.sk-toggleable__label-arrow:before {content: \"▸\";float: left;margin-right: 0.25em;color: #696969;}#sk-container-id-1 label.sk-toggleable__label-arrow:hover:before {color: black;}#sk-container-id-1 div.sk-estimator:hover label.sk-toggleable__label-arrow:before {color: black;}#sk-container-id-1 div.sk-toggleable__content {max-height: 0;max-width: 0;overflow: hidden;text-align: left;background-color: #f0f8ff;}#sk-container-id-1 div.sk-toggleable__content pre {margin: 0.2em;color: black;border-radius: 0.25em;background-color: #f0f8ff;}#sk-container-id-1 input.sk-toggleable__control:checked~div.sk-toggleable__content {max-height: 200px;max-width: 100%;overflow: auto;}#sk-container-id-1 input.sk-toggleable__control:checked~label.sk-toggleable__label-arrow:before {content: \"▾\";}#sk-container-id-1 div.sk-estimator input.sk-toggleable__control:checked~label.sk-toggleable__label {background-color: #d4ebff;}#sk-container-id-1 div.sk-label input.sk-toggleable__control:checked~label.sk-toggleable__label {background-color: #d4ebff;}#sk-container-id-1 input.sk-hidden--visually {border: 0;clip: rect(1px 1px 1px 1px);clip: rect(1px, 1px, 1px, 1px);height: 1px;margin: -1px;overflow: hidden;padding: 0;position: absolute;width: 1px;}#sk-container-id-1 div.sk-estimator {font-family: monospace;background-color: #f0f8ff;border: 1px dotted black;border-radius: 0.25em;box-sizing: border-box;margin-bottom: 0.5em;}#sk-container-id-1 div.sk-estimator:hover {background-color: #d4ebff;}#sk-container-id-1 div.sk-parallel-item::after {content: \"\";width: 100%;border-bottom: 1px solid gray;flex-grow: 1;}#sk-container-id-1 div.sk-label:hover label.sk-toggleable__label {background-color: #d4ebff;}#sk-container-id-1 div.sk-serial::before {content: \"\";position: absolute;border-left: 1px solid gray;box-sizing: border-box;top: 0;bottom: 0;left: 50%;z-index: 0;}#sk-container-id-1 div.sk-serial {display: flex;flex-direction: column;align-items: center;background-color: white;padding-right: 0.2em;padding-left: 0.2em;position: relative;}#sk-container-id-1 div.sk-item {position: relative;z-index: 1;}#sk-container-id-1 div.sk-parallel {display: flex;align-items: stretch;justify-content: center;background-color: white;position: relative;}#sk-container-id-1 div.sk-item::before, #sk-container-id-1 div.sk-parallel-item::before {content: \"\";position: absolute;border-left: 1px solid gray;box-sizing: border-box;top: 0;bottom: 0;left: 50%;z-index: -1;}#sk-container-id-1 div.sk-parallel-item {display: flex;flex-direction: column;z-index: 1;position: relative;background-color: white;}#sk-container-id-1 div.sk-parallel-item:first-child::after {align-self: flex-end;width: 50%;}#sk-container-id-1 div.sk-parallel-item:last-child::after {align-self: flex-start;width: 50%;}#sk-container-id-1 div.sk-parallel-item:only-child::after {width: 0;}#sk-container-id-1 div.sk-dashed-wrapped {border: 1px dashed gray;margin: 0 0.4em 0.5em 0.4em;box-sizing: border-box;padding-bottom: 0.4em;background-color: white;}#sk-container-id-1 div.sk-label label {font-family: monospace;font-weight: bold;display: inline-block;line-height: 1.2em;}#sk-container-id-1 div.sk-label-container {text-align: center;}#sk-container-id-1 div.sk-container {/* jupyter's `normalize.less` sets `[hidden] { display: none; }` but bootstrap.min.css set `[hidden] { display: none !important; }` so we also need the `!important` here to be able to override the default hidden behavior on the sphinx rendered scikit-learn.org. See: https://github.com/scikit-learn/scikit-learn/issues/21755 */display: inline-block !important;position: relative;}#sk-container-id-1 div.sk-text-repr-fallback {display: none;}</style><div id=\"sk-container-id-1\" class=\"sk-top-container\"><div class=\"sk-text-repr-fallback\"><pre>LinearRegression()</pre><b>In a Jupyter environment, please rerun this cell to show the HTML representation or trust the notebook. <br />On GitHub, the HTML representation is unable to render, please try loading this page with nbviewer.org.</b></div><div class=\"sk-container\" hidden><div class=\"sk-item\"><div class=\"sk-estimator sk-toggleable\"><input class=\"sk-toggleable__control sk-hidden--visually\" id=\"sk-estimator-id-1\" type=\"checkbox\" checked><label for=\"sk-estimator-id-1\" class=\"sk-toggleable__label sk-toggleable__label-arrow\">LinearRegression</label><div class=\"sk-toggleable__content\"><pre>LinearRegression()</pre></div></div></div></div></div>"
      ],
      "text/plain": [
       "LinearRegression()"
      ]
     },
     "execution_count": 25,
     "metadata": {},
     "output_type": "execute_result"
    }
   ],
   "source": [
    "# Linear Regression Model\n",
    "model = LinearRegression() # the model learns the relationship between the input features and the target, allowing it to make predictions later.\n",
    "# training the model\n",
    "model.fit(X_train, y_train) # we are trianing the model on the training data(X_train, y_train)"
   ]
  },
  {
   "cell_type": "code",
   "execution_count": 102,
   "id": "c20bf463",
   "metadata": {},
   "outputs": [],
   "source": [
    "#from sklearn.tree import DecisionTreeRegressor\n",
    "#model = DecisionTreeRegressor(max_depth=5, min_samples_split=10)\n",
    "#model.fit(X_train, y_train) "
   ]
  },
  {
   "cell_type": "code",
   "execution_count": 118,
   "id": "ba6dcfa8",
   "metadata": {},
   "outputs": [],
   "source": []
  },
  {
   "cell_type": "code",
   "execution_count": null,
   "id": "abbc1409",
   "metadata": {},
   "outputs": [],
   "source": []
  },
  {
   "cell_type": "code",
   "execution_count": null,
   "id": "717dd871",
   "metadata": {},
   "outputs": [],
   "source": []
  },
  {
   "cell_type": "code",
   "execution_count": null,
   "id": "4b4f803e",
   "metadata": {},
   "outputs": [],
   "source": []
  },
  {
   "cell_type": "markdown",
   "id": "52ac9333",
   "metadata": {},
   "source": [
    "## Intercept vs. Coefficients in Linear Regresion"
   ]
  },
  {
   "cell_type": "code",
   "execution_count": 26,
   "id": "248e99c7",
   "metadata": {},
   "outputs": [
    {
     "name": "stdout",
     "output_type": "stream",
     "text": [
      "Intercept: 4737518.175380117\n"
     ]
    }
   ],
   "source": [
    "print('Intercept:', model.intercept_) \n",
    "#when all the features are 0, the base price is 4737518.175380117."
   ]
  },
  {
   "cell_type": "code",
   "execution_count": null,
   "id": "e5b26739",
   "metadata": {},
   "outputs": [],
   "source": [
    "# explanation: when all features (like area, bedrooms, etc) are zero, the base value of the house price is 4,766,729.25 units of currency (e.g., dollars, euros)."
   ]
  },
  {
   "cell_type": "code",
   "execution_count": 27,
   "id": "4daf25dd",
   "metadata": {},
   "outputs": [
    {
     "name": "stdout",
     "output_type": "stream",
     "text": [
      "Coefficient:\n",
      " [ 511615.56377666   56615.57245779  549420.50124098  353158.42985604\n",
      "  193542.78167455  128151.92129533   88590.21346152  186194.15050566\n",
      "  143233.20624958  367817.89491558  267018.66081239  -62550.29721128\n",
      " -193987.7810882 ]\n"
     ]
    }
   ],
   "source": [
    "print('Coefficient:\\n', model.coef_)\n",
    "\n",
    "# positive coefficient\n",
    "# negative coefficient"
   ]
  },
  {
   "cell_type": "markdown",
   "id": "d57839e6",
   "metadata": {},
   "source": [
    "## Predict on the test data"
   ]
  },
  {
   "cell_type": "markdown",
   "id": "3b625634",
   "metadata": {},
   "source": [
    "Do not predict y_test, if you predict y_test, you will ger an error:\n",
    "\n",
    "The following error says that the structure of y_test has to get reshaped because: \n",
    "\n",
    "        Expected 2D array, got 1D array instead:\\narray={}.\\n\"\n",
    "        \n",
    "        \"Reshape your data either using array.reshape(-1, 1) if \"\n",
    "        \n",
    "        \"your data has a single feature or array.reshape(1, -1) \"\n",
    "        \n",
    "         \"if it contains a single sample.\".format(array)"
   ]
  },
  {
   "cell_type": "markdown",
   "id": "c1293760",
   "metadata": {},
   "source": [
    "Generally, y_test shouldn't be predicted. \n",
    "\n",
    "y_test is used to evaluate how accurate the predictions are by comparing them to the actual values.\n",
    "\n",
    "You predict y_pred (the predicted values)\n",
    "and then compare them with y_test to evaluate your model's accuracy."
   ]
  },
  {
   "cell_type": "code",
   "execution_count": 122,
   "id": "38daaa67",
   "metadata": {},
   "outputs": [
    {
     "ename": "ValueError",
     "evalue": "Expected 2D array, got 1D array instead:\narray=[ 4060000  6650000  3710000  6440000  2800000  4900000  5250000  4543000\n  2450000  3353000 10150000  2660000  3360000  3360000  2275000  2660000\n  2660000  7350000  2940000  2870000  6720000  5425000  1890000  5250000\n  4193000 12250000  3080000  5110000  9800000  2520000  6790000  3500000\n  6650000  2940000  3325000  4200000  4900000  3290000  3500000  2380000\n  5495000  3675000  6650000  4907000  3150000  4480000  6580000  5740000\n  3003000  1820000  8400000  2450000  4270000  4007500  3234000  1750000\n  9800000  2100000  4340000  3045000  3850000  3500000  4753000  3080000\n  4550000  6510000  6685000  5110000  4550000  6650000  3640000  5600000\n  3780000  6615000  3220000  6650000  4690000  4830000  6860000  2233000\n  7035000  4165000  6195000  6510000  1890000  8190000  2660000  4193000\n 13300000  9681000  4340000  8645000  3703000  5145000  6440000  5950000\n  5810000  5740000  6230000  5600000  3010000  8890000  4900000  5530000\n  9100000  3773000  7910000  7350000  5530000].\nReshape your data either using array.reshape(-1, 1) if your data has a single feature or array.reshape(1, -1) if it contains a single sample.",
     "output_type": "error",
     "traceback": [
      "\u001b[1;31m---------------------------------------------------------------------------\u001b[0m",
      "\u001b[1;31mValueError\u001b[0m                                Traceback (most recent call last)",
      "Cell \u001b[1;32mIn[122], line 2\u001b[0m\n\u001b[0;32m      1\u001b[0m \u001b[38;5;66;03m#prediction on y_test data causes an error\u001b[39;00m\n\u001b[1;32m----> 2\u001b[0m y_pred \u001b[38;5;241m=\u001b[39m model\u001b[38;5;241m.\u001b[39mpredict(y_test)\n",
      "File \u001b[1;32mC:\\ProgramData\\anaconda3\\Lib\\site-packages\\sklearn\\linear_model\\_base.py:386\u001b[0m, in \u001b[0;36mLinearModel.predict\u001b[1;34m(self, X)\u001b[0m\n\u001b[0;32m    372\u001b[0m \u001b[38;5;28;01mdef\u001b[39;00m \u001b[38;5;21mpredict\u001b[39m(\u001b[38;5;28mself\u001b[39m, X):\n\u001b[0;32m    373\u001b[0m \u001b[38;5;250m    \u001b[39m\u001b[38;5;124;03m\"\"\"\u001b[39;00m\n\u001b[0;32m    374\u001b[0m \u001b[38;5;124;03m    Predict using the linear model.\u001b[39;00m\n\u001b[0;32m    375\u001b[0m \n\u001b[1;32m   (...)\u001b[0m\n\u001b[0;32m    384\u001b[0m \u001b[38;5;124;03m        Returns predicted values.\u001b[39;00m\n\u001b[0;32m    385\u001b[0m \u001b[38;5;124;03m    \"\"\"\u001b[39;00m\n\u001b[1;32m--> 386\u001b[0m     \u001b[38;5;28;01mreturn\u001b[39;00m \u001b[38;5;28mself\u001b[39m\u001b[38;5;241m.\u001b[39m_decision_function(X)\n",
      "File \u001b[1;32mC:\\ProgramData\\anaconda3\\Lib\\site-packages\\sklearn\\linear_model\\_base.py:369\u001b[0m, in \u001b[0;36mLinearModel._decision_function\u001b[1;34m(self, X)\u001b[0m\n\u001b[0;32m    366\u001b[0m \u001b[38;5;28;01mdef\u001b[39;00m \u001b[38;5;21m_decision_function\u001b[39m(\u001b[38;5;28mself\u001b[39m, X):\n\u001b[0;32m    367\u001b[0m     check_is_fitted(\u001b[38;5;28mself\u001b[39m)\n\u001b[1;32m--> 369\u001b[0m     X \u001b[38;5;241m=\u001b[39m \u001b[38;5;28mself\u001b[39m\u001b[38;5;241m.\u001b[39m_validate_data(X, accept_sparse\u001b[38;5;241m=\u001b[39m[\u001b[38;5;124m\"\u001b[39m\u001b[38;5;124mcsr\u001b[39m\u001b[38;5;124m\"\u001b[39m, \u001b[38;5;124m\"\u001b[39m\u001b[38;5;124mcsc\u001b[39m\u001b[38;5;124m\"\u001b[39m, \u001b[38;5;124m\"\u001b[39m\u001b[38;5;124mcoo\u001b[39m\u001b[38;5;124m\"\u001b[39m], reset\u001b[38;5;241m=\u001b[39m\u001b[38;5;28;01mFalse\u001b[39;00m)\n\u001b[0;32m    370\u001b[0m     \u001b[38;5;28;01mreturn\u001b[39;00m safe_sparse_dot(X, \u001b[38;5;28mself\u001b[39m\u001b[38;5;241m.\u001b[39mcoef_\u001b[38;5;241m.\u001b[39mT, dense_output\u001b[38;5;241m=\u001b[39m\u001b[38;5;28;01mTrue\u001b[39;00m) \u001b[38;5;241m+\u001b[39m \u001b[38;5;28mself\u001b[39m\u001b[38;5;241m.\u001b[39mintercept_\n",
      "File \u001b[1;32mC:\\ProgramData\\anaconda3\\Lib\\site-packages\\sklearn\\base.py:604\u001b[0m, in \u001b[0;36mBaseEstimator._validate_data\u001b[1;34m(self, X, y, reset, validate_separately, cast_to_ndarray, **check_params)\u001b[0m\n\u001b[0;32m    602\u001b[0m         out \u001b[38;5;241m=\u001b[39m X, y\n\u001b[0;32m    603\u001b[0m \u001b[38;5;28;01melif\u001b[39;00m \u001b[38;5;129;01mnot\u001b[39;00m no_val_X \u001b[38;5;129;01mand\u001b[39;00m no_val_y:\n\u001b[1;32m--> 604\u001b[0m     out \u001b[38;5;241m=\u001b[39m check_array(X, input_name\u001b[38;5;241m=\u001b[39m\u001b[38;5;124m\"\u001b[39m\u001b[38;5;124mX\u001b[39m\u001b[38;5;124m\"\u001b[39m, \u001b[38;5;241m*\u001b[39m\u001b[38;5;241m*\u001b[39mcheck_params)\n\u001b[0;32m    605\u001b[0m \u001b[38;5;28;01melif\u001b[39;00m no_val_X \u001b[38;5;129;01mand\u001b[39;00m \u001b[38;5;129;01mnot\u001b[39;00m no_val_y:\n\u001b[0;32m    606\u001b[0m     out \u001b[38;5;241m=\u001b[39m _check_y(y, \u001b[38;5;241m*\u001b[39m\u001b[38;5;241m*\u001b[39mcheck_params)\n",
      "File \u001b[1;32mC:\\ProgramData\\anaconda3\\Lib\\site-packages\\sklearn\\utils\\validation.py:940\u001b[0m, in \u001b[0;36mcheck_array\u001b[1;34m(array, accept_sparse, accept_large_sparse, dtype, order, copy, force_all_finite, ensure_2d, allow_nd, ensure_min_samples, ensure_min_features, estimator, input_name)\u001b[0m\n\u001b[0;32m    938\u001b[0m     \u001b[38;5;66;03m# If input is 1D raise error\u001b[39;00m\n\u001b[0;32m    939\u001b[0m     \u001b[38;5;28;01mif\u001b[39;00m array\u001b[38;5;241m.\u001b[39mndim \u001b[38;5;241m==\u001b[39m \u001b[38;5;241m1\u001b[39m:\n\u001b[1;32m--> 940\u001b[0m         \u001b[38;5;28;01mraise\u001b[39;00m \u001b[38;5;167;01mValueError\u001b[39;00m(\n\u001b[0;32m    941\u001b[0m             \u001b[38;5;124m\"\u001b[39m\u001b[38;5;124mExpected 2D array, got 1D array instead:\u001b[39m\u001b[38;5;130;01m\\n\u001b[39;00m\u001b[38;5;124marray=\u001b[39m\u001b[38;5;132;01m{}\u001b[39;00m\u001b[38;5;124m.\u001b[39m\u001b[38;5;130;01m\\n\u001b[39;00m\u001b[38;5;124m\"\u001b[39m\n\u001b[0;32m    942\u001b[0m             \u001b[38;5;124m\"\u001b[39m\u001b[38;5;124mReshape your data either using array.reshape(-1, 1) if \u001b[39m\u001b[38;5;124m\"\u001b[39m\n\u001b[0;32m    943\u001b[0m             \u001b[38;5;124m\"\u001b[39m\u001b[38;5;124myour data has a single feature or array.reshape(1, -1) \u001b[39m\u001b[38;5;124m\"\u001b[39m\n\u001b[0;32m    944\u001b[0m             \u001b[38;5;124m\"\u001b[39m\u001b[38;5;124mif it contains a single sample.\u001b[39m\u001b[38;5;124m\"\u001b[39m\u001b[38;5;241m.\u001b[39mformat(array)\n\u001b[0;32m    945\u001b[0m         )\n\u001b[0;32m    947\u001b[0m \u001b[38;5;28;01mif\u001b[39;00m dtype_numeric \u001b[38;5;129;01mand\u001b[39;00m \u001b[38;5;28mhasattr\u001b[39m(array\u001b[38;5;241m.\u001b[39mdtype, \u001b[38;5;124m\"\u001b[39m\u001b[38;5;124mkind\u001b[39m\u001b[38;5;124m\"\u001b[39m) \u001b[38;5;129;01mand\u001b[39;00m array\u001b[38;5;241m.\u001b[39mdtype\u001b[38;5;241m.\u001b[39mkind \u001b[38;5;129;01min\u001b[39;00m \u001b[38;5;124m\"\u001b[39m\u001b[38;5;124mUSV\u001b[39m\u001b[38;5;124m\"\u001b[39m:\n\u001b[0;32m    948\u001b[0m     \u001b[38;5;28;01mraise\u001b[39;00m \u001b[38;5;167;01mValueError\u001b[39;00m(\n\u001b[0;32m    949\u001b[0m         \u001b[38;5;124m\"\u001b[39m\u001b[38;5;124mdtype=\u001b[39m\u001b[38;5;124m'\u001b[39m\u001b[38;5;124mnumeric\u001b[39m\u001b[38;5;124m'\u001b[39m\u001b[38;5;124m is not compatible with arrays of bytes/strings.\u001b[39m\u001b[38;5;124m\"\u001b[39m\n\u001b[0;32m    950\u001b[0m         \u001b[38;5;124m\"\u001b[39m\u001b[38;5;124mConvert your data to numeric values explicitly instead.\u001b[39m\u001b[38;5;124m\"\u001b[39m\n\u001b[0;32m    951\u001b[0m     )\n",
      "\u001b[1;31mValueError\u001b[0m: Expected 2D array, got 1D array instead:\narray=[ 4060000  6650000  3710000  6440000  2800000  4900000  5250000  4543000\n  2450000  3353000 10150000  2660000  3360000  3360000  2275000  2660000\n  2660000  7350000  2940000  2870000  6720000  5425000  1890000  5250000\n  4193000 12250000  3080000  5110000  9800000  2520000  6790000  3500000\n  6650000  2940000  3325000  4200000  4900000  3290000  3500000  2380000\n  5495000  3675000  6650000  4907000  3150000  4480000  6580000  5740000\n  3003000  1820000  8400000  2450000  4270000  4007500  3234000  1750000\n  9800000  2100000  4340000  3045000  3850000  3500000  4753000  3080000\n  4550000  6510000  6685000  5110000  4550000  6650000  3640000  5600000\n  3780000  6615000  3220000  6650000  4690000  4830000  6860000  2233000\n  7035000  4165000  6195000  6510000  1890000  8190000  2660000  4193000\n 13300000  9681000  4340000  8645000  3703000  5145000  6440000  5950000\n  5810000  5740000  6230000  5600000  3010000  8890000  4900000  5530000\n  9100000  3773000  7910000  7350000  5530000].\nReshape your data either using array.reshape(-1, 1) if your data has a single feature or array.reshape(1, -1) if it contains a single sample."
     ]
    }
   ],
   "source": [
    "#prediction on y_test data causes an error\n",
    "y_pred = model.predict(y_test) #incorrect"
   ]
  },
  {
   "cell_type": "code",
   "execution_count": 27,
   "id": "fdf10630",
   "metadata": {},
   "outputs": [],
   "source": [
    "# a very important explanation:\n",
    "  # The model applies the learned relationship between features and the target (from training) to predict the house prices for these unseen test data points."
   ]
  },
  {
   "cell_type": "code",
   "execution_count": 28,
   "id": "2a93d62c",
   "metadata": {},
   "outputs": [],
   "source": [
    "y_pred = model.predict(X_test) # For model evaluation and testing"
   ]
  },
  {
   "cell_type": "code",
   "execution_count": 29,
   "id": "ac6799b1",
   "metadata": {},
   "outputs": [
    {
     "data": {
      "text/plain": [
       "array([5164653.90033967, 7224722.29802166, 3109863.24240338,\n",
       "       4612075.3272256 , 3294646.25725956, 3532275.09556558,\n",
       "       5611774.56836474, 6368145.98732718, 2722856.95689986,\n",
       "       2629405.61585784, 9617039.50315578, 2798087.30447888,\n",
       "       3171096.76847064, 3394639.09125529, 3681088.65424275,\n",
       "       5263187.74621486, 3035963.47612386, 4786122.8004005 ,\n",
       "       4349551.9200572 , 3572362.09930451, 5774875.2139565 ,\n",
       "       5886993.57919883, 2730836.19518459, 4727316.47323636,\n",
       "       5244847.52716799, 7555324.21605601, 3220790.84680269,\n",
       "       5191898.79934207, 8143726.91009782, 3398814.09825036,\n",
       "       6490693.05027925, 3315105.90747811, 6708457.36761325,\n",
       "       4201738.21071676, 3557571.06735186, 5836974.50478626,\n",
       "       4808660.67448475, 4362878.73613262, 3191242.95701509,\n",
       "       4596554.93225239, 4566042.86048409, 3517779.52374149,\n",
       "       7205844.79365835, 3983597.27861103, 3749338.70271055,\n",
       "       4274731.09125895, 6757442.10783741, 4037320.43665851,\n",
       "       3769334.90397125, 3417627.44377157, 7268416.6764461 ,\n",
       "       2802534.35431385, 4341750.61420451, 4516422.15345642,\n",
       "       3679997.65037847, 2678959.06481153, 7498029.17782458,\n",
       "       2920366.45493168, 4239582.0596018 , 2766467.48467034,\n",
       "       4841309.85933272, 3584359.56014923, 5142140.84897579,\n",
       "       4221869.20996263, 4698408.50824081, 4662380.98564313,\n",
       "       7177841.51216424, 3452198.9138376 , 5902436.91361411,\n",
       "       6198094.31822812, 4773218.99689078, 5178933.32585698,\n",
       "       4490410.96106558, 7968737.41567512, 3519394.94792196,\n",
       "       5501905.04909554, 3947055.15571395, 4714056.36707951,\n",
       "       4792291.26764381, 4250596.74659378, 7718149.1935735 ,\n",
       "       4053241.11775758, 6453918.60757725, 5355571.58680279,\n",
       "       2755188.2917527 , 6796008.09793359, 2607277.38176332,\n",
       "       3679738.85761988, 7968276.12638737, 8078480.59500815,\n",
       "       3266213.77309708, 5897888.5303104 , 3569461.07439185,\n",
       "       3868964.98032522, 7584429.5312489 , 4740586.43771692,\n",
       "       5139372.69032253, 6423485.10228601, 4914078.82258489,\n",
       "       5982087.31289315, 3855027.32194281, 6420308.27282364,\n",
       "       3749108.5131483 , 5998642.37204432, 4973331.10029252,\n",
       "       4336650.86896384, 7059062.72274841, 6398940.86831986,\n",
       "       6363889.85312644])"
      ]
     },
     "execution_count": 29,
     "metadata": {},
     "output_type": "execute_result"
    }
   ],
   "source": [
    "y_pred # on X_test"
   ]
  },
  {
   "cell_type": "code",
   "execution_count": 61,
   "id": "89d6c3fe",
   "metadata": {},
   "outputs": [
    {
     "data": {
      "text/plain": [
       "<PandasArray>\n",
       "[\n",
       "[4060000],\n",
       "[6650000],\n",
       "[3710000],\n",
       "[6440000],\n",
       "[2800000],\n",
       "[4900000],\n",
       "[5250000],\n",
       "[4543000],\n",
       "[2450000],\n",
       "[3353000],\n",
       "[10150000],\n",
       "[2660000],\n",
       "[3360000],\n",
       "[3360000],\n",
       "[2275000],\n",
       "[2660000],\n",
       "[2660000],\n",
       "[7350000],\n",
       "[2940000],\n",
       "[2870000],\n",
       "[6720000],\n",
       "[5425000],\n",
       "[1890000],\n",
       "[5250000],\n",
       "[4193000],\n",
       "[12250000],\n",
       "[3080000],\n",
       "[5110000],\n",
       "[9800000],\n",
       "[2520000],\n",
       "[6790000],\n",
       "[3500000],\n",
       "[6650000],\n",
       "[2940000],\n",
       "[3325000],\n",
       "[4200000],\n",
       "[4900000],\n",
       "[3290000],\n",
       "[3500000],\n",
       "[2380000],\n",
       "[5495000],\n",
       "[3675000],\n",
       "[6650000],\n",
       "[4907000],\n",
       "[3150000],\n",
       "[4480000],\n",
       "[6580000],\n",
       "[5740000],\n",
       "[3003000],\n",
       "[1820000],\n",
       "[8400000],\n",
       "[2450000],\n",
       "[4270000],\n",
       "[4007500],\n",
       "[3234000],\n",
       "[1750000],\n",
       "[9800000],\n",
       "[2100000],\n",
       "[4340000],\n",
       "[3045000],\n",
       "[3850000],\n",
       "[3500000],\n",
       "[4753000],\n",
       "[3080000],\n",
       "[4550000],\n",
       "[6510000],\n",
       "[6685000],\n",
       "[5110000],\n",
       "[4550000],\n",
       "[6650000],\n",
       "[3640000],\n",
       "[5600000],\n",
       "[3780000],\n",
       "[6615000],\n",
       "[3220000],\n",
       "[6650000],\n",
       "[4690000],\n",
       "[4830000],\n",
       "[6860000],\n",
       "[2233000],\n",
       "[7035000],\n",
       "[4165000],\n",
       "[6195000],\n",
       "[6510000],\n",
       "[1890000],\n",
       "[8190000],\n",
       "[2660000],\n",
       "[4193000],\n",
       "[13300000],\n",
       "[9681000],\n",
       "[4340000],\n",
       "[8645000],\n",
       "[3703000],\n",
       "[5145000],\n",
       "[6440000],\n",
       "[5950000],\n",
       "[5810000],\n",
       "[5740000],\n",
       "[6230000],\n",
       "[5600000],\n",
       "[3010000],\n",
       "[8890000],\n",
       "[4900000],\n",
       "[5530000],\n",
       "[9100000],\n",
       "[3773000],\n",
       "[7910000],\n",
       "[7350000],\n",
       "[5530000]\n",
       "]\n",
       "Shape: (109, 1), dtype: int64"
      ]
     },
     "execution_count": 61,
     "metadata": {},
     "output_type": "execute_result"
    }
   ],
   "source": [
    "y_test.array.reshape(-1, 1) #the actual value for comparing with y_pred = model.predict(X_test)"
   ]
  },
  {
   "cell_type": "code",
   "execution_count": 126,
   "id": "6b00a8ab",
   "metadata": {},
   "outputs": [
    {
     "name": "stdout",
     "output_type": "stream",
     "text": [
      "(109, 13)\n",
      "(109,)\n"
     ]
    }
   ],
   "source": [
    "print(X_test.shape)\n",
    "print(y_test.shape)"
   ]
  },
  {
   "cell_type": "code",
   "execution_count": 125,
   "id": "e62f6dae",
   "metadata": {},
   "outputs": [
    {
     "name": "stdout",
     "output_type": "stream",
     "text": [
      "(109,)\n",
      "(109, 13)\n"
     ]
    }
   ],
   "source": [
    "print(y_pred.shape)\n",
    "print(X_test.shape)"
   ]
  },
  {
   "cell_type": "markdown",
   "id": "fce584b4",
   "metadata": {},
   "source": [
    "# Model Evaluation"
   ]
  },
  {
   "cell_type": "code",
   "execution_count": 30,
   "id": "5bba20a6",
   "metadata": {},
   "outputs": [
    {
     "data": {
      "text/plain": [
       "316    4060000\n",
       "77     6650000\n",
       "360    3710000\n",
       "90     6440000\n",
       "493    2800000\n",
       "        ...   \n",
       "15     9100000\n",
       "357    3773000\n",
       "39     7910000\n",
       "54     7350000\n",
       "155    5530000\n",
       "Name: price, Length: 109, dtype: int64"
      ]
     },
     "execution_count": 30,
     "metadata": {},
     "output_type": "execute_result"
    }
   ],
   "source": [
    "y_test"
   ]
  },
  {
   "cell_type": "code",
   "execution_count": 31,
   "id": "133dce40",
   "metadata": {},
   "outputs": [
    {
     "data": {
      "text/plain": [
       "46     7525000\n",
       "93     6300000\n",
       "335    3920000\n",
       "412    3430000\n",
       "471    3010000\n",
       "        ...   \n",
       "71     6755000\n",
       "106    6160000\n",
       "270    4340000\n",
       "435    3290000\n",
       "102    6195000\n",
       "Name: price, Length: 436, dtype: int64"
      ]
     },
     "execution_count": 31,
     "metadata": {},
     "output_type": "execute_result"
    }
   ],
   "source": [
    "y_train"
   ]
  },
  {
   "cell_type": "code",
   "execution_count": 32,
   "id": "f19d3c7f",
   "metadata": {},
   "outputs": [
    {
     "name": "stdout",
     "output_type": "stream",
     "text": [
      "MSE: 1754318687330.6682\n"
     ]
    }
   ],
   "source": [
    "# Calculate MSE, MAE, R2, RMSE for training data\n",
    "mse = mean_squared_error(y_test, y_pred)\n",
    "print(f\"MSE: {mse}\")"
   ]
  },
  {
   "cell_type": "code",
   "execution_count": 33,
   "id": "3faea0de",
   "metadata": {},
   "outputs": [
    {
     "name": "stdout",
     "output_type": "stream",
     "text": [
      "MAE: 970043.4039201641\n"
     ]
    }
   ],
   "source": [
    "mae = mean_absolute_error(y_test, y_pred)\n",
    "print(f\"MAE: {mae}\")"
   ]
  },
  {
   "cell_type": "code",
   "execution_count": 34,
   "id": "c0e6e0af",
   "metadata": {},
   "outputs": [
    {
     "name": "stdout",
     "output_type": "stream",
     "text": [
      "R2: 0.6529242642153175\n"
     ]
    }
   ],
   "source": [
    "r2 = r2_score(y_test, y_pred)\n",
    "print(\"R2:\", r2)"
   ]
  },
  {
   "cell_type": "code",
   "execution_count": 35,
   "id": "e2d24fd6",
   "metadata": {},
   "outputs": [
    {
     "name": "stdout",
     "output_type": "stream",
     "text": [
      "RMSE: 1324506.9600914402\n"
     ]
    }
   ],
   "source": [
    "rmse = np.sqrt(mse)\n",
    "print(f\"RMSE: {rmse}\")"
   ]
  },
  {
   "cell_type": "code",
   "execution_count": 36,
   "id": "4d2be578",
   "metadata": {},
   "outputs": [
    {
     "name": "stdout",
     "output_type": "stream",
     "text": [
      "Adjusted R-squared: 0.605429689844782\n"
     ]
    }
   ],
   "source": [
    "# Adjusted R-squared Calculation\n",
    "n = X_test.shape[0]  # number of samples\n",
    "p = X_test.shape[1]  # number of predictors (features)\n",
    "adjusted_r2 = 1 - (1 - r2) * (n - 1) / (n - p - 1)\n",
    "\n",
    "print(f\"Adjusted R-squared: {adjusted_r2}\")"
   ]
  },
  {
   "cell_type": "code",
   "execution_count": 38,
   "id": "70b34d4f",
   "metadata": {},
   "outputs": [
    {
     "name": "stdout",
     "output_type": "stream",
     "text": [
      "MSE: 1754318687330.6682\n",
      "MAE: 970043.4039201641\n",
      "R2: 0.6529242642153175\n",
      "RMSE: 1324506.9600914402\n",
      "Adjusted R-squared: 0.605429689844782\n"
     ]
    }
   ],
   "source": [
    "mse = mean_squared_error(y_test, y_pred)\n",
    "print(f\"MSE: {mse}\")\n",
    "mae = mean_absolute_error(y_test, y_pred)\n",
    "print(f\"MAE: {mae}\")\n",
    "r2 = r2_score(y_test, y_pred)\n",
    "print(\"R2:\", r2)\n",
    "rmse = np.sqrt(mse)\n",
    "print(f\"RMSE: {rmse}\")\n",
    "n = X_test.shape[0]  # number of samples\n",
    "p = X_test.shape[1]  # number of predictors (features)\n",
    "adjusted_r2 = 1 - (1 - r2) * (n - 1) / (n - p - 1)\n",
    "print(f\"Adjusted R-squared: {adjusted_r2}\")"
   ]
  },
  {
   "cell_type": "code",
   "execution_count": 39,
   "id": "904ac11d",
   "metadata": {},
   "outputs": [
    {
     "name": "stdout",
     "output_type": "stream",
     "text": [
      "Test Data Metrics:\n",
      "MSE: 1754318687330.6682\n",
      "MAE: 970043.4039201641\n",
      "R2: 0.6529242642153175\n",
      "RMSE: 1324506.9600914402\n",
      "Adjusted R-squared: 0.605429689844782\n"
     ]
    }
   ],
   "source": [
    "print(\"Test Data Metrics:\")\n",
    "print(f\"MSE: {mse}\")\n",
    "print(f\"MAE: {mae}\")\n",
    "print(f\"R2: {r2}\")\n",
    "print(f\"RMSE: {rmse}\")\n",
    "print(f\"Adjusted R-squared: {adjusted_r2}\")"
   ]
  },
  {
   "cell_type": "code",
   "execution_count": 95,
   "id": "04fe753f",
   "metadata": {},
   "outputs": [],
   "source": [
    "data_dropdup=data.drop_duplicates(inplace=True)\n",
    "data_dropdup"
   ]
  },
  {
   "cell_type": "markdown",
   "id": "7e95a817",
   "metadata": {},
   "source": [
    "To check for overfitting and underfitting in the housing dataset (or any other dataset), you need to evaluate the model's performance on both the training data and the testing data."
   ]
  },
  {
   "cell_type": "code",
   "execution_count": 40,
   "id": "766de38e",
   "metadata": {},
   "outputs": [],
   "source": [
    "# Predictions on training data\n",
    "y_pred_train = model.predict(X_train) # For checking training performance"
   ]
  },
  {
   "cell_type": "code",
   "execution_count": 41,
   "id": "1c44d338",
   "metadata": {},
   "outputs": [
    {
     "data": {
      "text/plain": [
       "array([ 7109165.83869914,  6882951.80434331,  4815249.78634875,\n",
       "        3990061.64537982,  3238924.34106256,  4213259.45560891,\n",
       "        3262521.2215167 ,  2776422.43321996,  2329025.57980948,\n",
       "        3653860.17702972,  4084008.35268491,  3686745.82238176,\n",
       "        4686517.16289527,  3873464.37706931,  4190240.83409354,\n",
       "        5869519.40313553,  2431733.15691031,  5789740.18200832,\n",
       "        3330477.18628315,  7871347.11276757,  6464175.05153336,\n",
       "        3348710.98229963,  5066745.68311879,  6829041.62324657,\n",
       "        6441622.72524018,  3215327.46060842,  2359612.68424144,\n",
       "        3177203.1918561 ,  5577561.12144359,  3119493.38199004,\n",
       "        4101305.32597451,  2612119.22569568,  3901239.29674703,\n",
       "        5228986.06476602,  4122403.48334852,  4005975.25747494,\n",
       "        2429223.48158115,  6896328.29436496,  5159484.34408524,\n",
       "        6662050.04903443,  6939841.61654542,  5455918.56569496,\n",
       "        4382276.61245577,  3950285.29106802,  3778024.21928121,\n",
       "        3318897.97407655,  7075245.51564245,  7975008.19676278,\n",
       "        4037996.59102696,  7033627.71592741,  3658707.03856111,\n",
       "        3874926.73483994,  6787030.2732729 ,  5214207.63610123,\n",
       "        5046219.31790538,  5105926.9376115 ,  3686911.3528713 ,\n",
       "        4407606.31788976,  6348649.95283145,  6100055.25901154,\n",
       "        5950801.07306009,  3172828.41498638,  4681080.98266041,\n",
       "        8755351.55644671,  5147910.38750576,  7179767.21472184,\n",
       "        7923929.76332925,  3257282.59811643,  6697962.28438414,\n",
       "        5266498.54107319,  4266445.8921067 ,  3469055.07261574,\n",
       "        4478980.45232905,  6267635.98690522,  5729852.87275974,\n",
       "        5169355.67991894,  3876531.66760065,  6576278.78354645,\n",
       "        3202562.62513683,  3429071.73229416,  2927286.88048357,\n",
       "        8453235.88384306,  5920946.04515373,  6349965.51285249,\n",
       "        4201613.31703471,  5021265.9649623 ,  7350679.34953041,\n",
       "        5078245.05911863,  3980760.38470972,  2823099.99776027,\n",
       "        8194770.12522349,  4677055.5886329 ,  5139441.42211418,\n",
       "        5607514.13247667,  5353495.30409121,  2639988.20543615,\n",
       "        5492157.68888708,  3239104.7480339 ,  4697663.73484469,\n",
       "        7146266.87200234,  5490743.31913099,  5853891.19641285,\n",
       "        8009193.88650751,  8519182.93307282,  5943255.47090531,\n",
       "        6873779.6844807 ,  4114440.70528548,  8118692.86723432,\n",
       "        5082417.17534243,  3419351.63637829,  5686697.99376902,\n",
       "        4311206.63230012,  4959564.00043272,  3501752.3627913 ,\n",
       "        3991814.81483334,  6805816.20464496,  3218408.89249242,\n",
       "        3882603.77462271,  5591648.33171603,  5872779.73016021,\n",
       "        3249454.09710849,  3395676.67571093,  4840327.3701332 ,\n",
       "        4608511.81853329,  5534926.97846767,  4089343.27804109,\n",
       "        6860173.98660282,  3600592.10744957,  5307653.13666999,\n",
       "        4586401.27247397,  5105763.74219052,  5031370.10726555,\n",
       "        5048321.48553127,  3702122.85224447,  3047941.9110369 ,\n",
       "        2813661.24557861,  3911060.74721158,  6085644.39824252,\n",
       "        6514063.5342428 ,  4443296.48485318,  4762483.59893734,\n",
       "        6832771.39714849,  6238653.84856612,  4535377.28609275,\n",
       "        3004771.31645255,  4306952.42874213,  4912924.07216389,\n",
       "        2668629.27094408,  3625108.48573325,  6791046.44920274,\n",
       "        5677626.46639036,  5020743.33140429,  3778174.20656496,\n",
       "        3351709.1775005 ,  6151081.285462  ,  3257432.58540018,\n",
       "        4077849.16156427,  5000944.9350312 ,  4065334.40426686,\n",
       "        5154431.47468448,  3060450.98597841,  3969260.25519786,\n",
       "        4293981.2134963 ,  4035852.44505186,  7574508.72685354,\n",
       "        6353833.72922544,  4151408.44192524,  5726149.82715334,\n",
       "        7340775.87587479,  5978159.31303422,  4736280.75192265,\n",
       "        4232535.11586735,  3663293.50244312,  2855044.62653178,\n",
       "        5609155.61867022,  4177666.88707603,  3612376.97713079,\n",
       "        6057527.9408226 ,  5241453.24571064,  4835773.75393084,\n",
       "        4311206.63230012,  4859063.6330174 ,  4383585.64736943,\n",
       "        5257919.69303032,  4756636.25529538,  4182085.25804393,\n",
       "        5666201.52323852,  2552626.91422346,  5728912.68691925,\n",
       "        5849151.4840256 ,  3936403.51770275,  4248675.77062496,\n",
       "        6011548.75054536,  2765721.08002716,  2767330.42103764,\n",
       "        4115761.89871201,  6125284.01979845,  4971091.51252083,\n",
       "        3743833.83622441,  3693828.7309896 ,  3938994.58821215,\n",
       "        5381066.47678142,  3553240.9475524 ,  2813661.24557861,\n",
       "        3845148.12052434,  4866646.01374598,  7155551.88693269,\n",
       "        5246762.01218378,  5665765.0250676 ,  2980791.03462006,\n",
       "        4396074.13200317,  6832058.05557132,  3040191.29793835,\n",
       "        4325462.06986623,  2209772.49335765,  2726352.7878983 ,\n",
       "        3705051.57019023,  3142368.51860559,  4637272.90864422,\n",
       "        4387983.32689642,  3142357.53817193,  2977370.76239796,\n",
       "        2850488.94481285,  5107133.13679227,  4935313.97977092,\n",
       "        4016627.02096366,  5840704.49716614,  4471855.42632354,\n",
       "        3742181.75066492,  5626847.13800175,  3572525.35320641,\n",
       "        4341482.90513954,  2719273.72376206,  3695167.98444261,\n",
       "        6922075.54278062,  5076126.20895681,  6040606.91868726,\n",
       "        5434561.88511328,  3818960.4522993 ,  4041640.73544916,\n",
       "        6613940.75108822,  5604881.3781997 ,  3240317.63386345,\n",
       "        6157107.7136267 ,  3077977.93083522,  3730315.05553509,\n",
       "        3144536.819246  ,  6181186.67048008,  2887483.12394875,\n",
       "        4441607.15605135,  3594451.74552474,  2825520.83293101,\n",
       "        5296579.38566744,  2990637.84898466,  3132918.78599028,\n",
       "        4685594.91665912,  2620166.82585467,  7185944.54033352,\n",
       "        5778770.82627474,  7364053.98198961,  3873289.0756954 ,\n",
       "        7007777.14065573,  4418039.57063441,  6013202.30975682,\n",
       "        3558903.21302743,  5611244.26088155,  7003782.94058971,\n",
       "        7569976.55651716,  7002580.39757889,  5015852.36094988,\n",
       "        6514542.41737166,  2818816.2018272 ,  3304728.45308504,\n",
       "        4619041.36794198,  6351308.6107771 ,  5677765.85184628,\n",
       "        4401657.25670438,  2831447.74607764,  3006036.96840517,\n",
       "        4412041.96015322,  5606602.55908965,  3135989.10875013,\n",
       "        7599163.26037078,  3522758.45547453,  3385224.99987822,\n",
       "        4938456.28759616,  3582320.0987956 ,  3912641.47543023,\n",
       "        3607611.27717357,  3900488.9497121 ,  5022913.14118794,\n",
       "        3368887.59053167,  6458325.39334524,  4161245.43097938,\n",
       "        5249933.2565335 ,  6409972.10245885,  5467143.21396746,\n",
       "        2908048.76739517,  4973466.81629085,  2926545.90260864,\n",
       "        5511224.10611608,  6834674.11624758,  4092314.41480606,\n",
       "        3743148.14590944,  5268220.90550353,  3979872.54616324,\n",
       "        7235876.72719   ,  6736596.8545907 ,  4026613.00029572,\n",
       "        4818231.12354391,  4889061.47722682,  2188535.30094893,\n",
       "        4552393.02727201,  3276423.5892591 ,  4468147.97687795,\n",
       "        4530088.39534025,  5691077.38048737,  4725002.01094523,\n",
       "        4497821.40395803,  6621173.94505371,  3747457.03544421,\n",
       "        2729423.11065815,  5019551.92221051,  6427623.86345363,\n",
       "        6470678.86319429,  5720870.09251859,  2361883.53212843,\n",
       "        7248674.74574675,  3013146.75780303,  3065029.16954052,\n",
       "        7033571.57263996,  4010797.9173847 ,  6205696.59551226,\n",
       "        5113264.50369624,  6124850.53334432,  3856749.31289974,\n",
       "        5484306.15873067,  3138726.43929089,  4738153.94498716,\n",
       "        3071030.49643063,  3784192.68652452,  3474373.89829451,\n",
       "        3922077.47472324,  4644083.04401814,  4493008.11474497,\n",
       "        4530388.8943239 ,  6250403.10651951,  2821512.09155462,\n",
       "        3392304.06401446,  4069990.03380097,  2946692.09115309,\n",
       "        3633464.48618346,  2723993.09985289,  3812320.587893  ,\n",
       "        4280530.97718805,  3274319.66174376,  3020744.76367469,\n",
       "        4652464.82479281,  6140618.20969505,  6492477.90018185,\n",
       "        6257905.45073339,  5900161.2723188 ,  5878938.56480595,\n",
       "        4602017.50878874,  5190712.51182542,  5022280.87028161,\n",
       "        7006552.45053048,  3803039.77120023, 10522985.60053048,\n",
       "        2152048.97640344,  3020894.33867306,  7126559.18009238,\n",
       "        3927545.18814048,  5595999.75985258,  4961042.00469774,\n",
       "        6173400.27506899,  2883214.82693015,  3209208.83741612,\n",
       "        4293981.2134963 ,  4207327.68031179,  2822871.93026329,\n",
       "        3530249.02630761,  5577656.12551902,  4689290.67243716,\n",
       "        2728712.47594371,  7417554.57750917,  4136423.45132081,\n",
       "        4110524.18547498,  3570254.50531942,  5899134.40178245,\n",
       "        4269401.31333114,  6187955.91176568,  4432739.03577414,\n",
       "        4120039.73034306,  6048373.70836117,  5610866.93955702,\n",
       "        2432254.71858887,  5354935.17352799,  4007735.49593241,\n",
       "        2219211.24553931,  2723433.83556236,  3412773.40572057,\n",
       "        5464328.01749645,  3759658.0140222 ,  3245820.10580986,\n",
       "        3271932.28066525,  2258234.93844707,  7687100.3515536 ,\n",
       "        3314678.22862791,  4559980.38646866,  6592338.08739486,\n",
       "        4603614.55548837,  2695676.84330792,  6147821.32708564,\n",
       "        3419653.92531491,  5787531.99062508,  2728712.47594371,\n",
       "        4928767.0204831 ,  2763310.6992276 ,  3119301.99458504,\n",
       "        4210627.44130764,  3701076.20420285,  5505861.22657008,\n",
       "        3413516.5956186 ,  4007699.44240879,  3262521.2215167 ,\n",
       "        4484688.0594607 ,  3286501.50334919,  3002028.22702878,\n",
       "        6390273.50882754,  5184774.6923674 ,  6547457.56482867,\n",
       "        6502149.92351374,  6240959.18639774,  2823099.99776027,\n",
       "        7095909.65601899])"
      ]
     },
     "execution_count": 41,
     "metadata": {},
     "output_type": "execute_result"
    }
   ],
   "source": [
    "y_pred_train"
   ]
  },
  {
   "cell_type": "code",
   "execution_count": 42,
   "id": "b68b48f2",
   "metadata": {},
   "outputs": [
    {
     "name": "stdout",
     "output_type": "stream",
     "text": [
      "MSE_train: 968358188440.7242\n",
      "MAE_train: 719242.8936724712\n",
      "R2_train: 0.6859438988560158\n",
      "RMSE_train: 984051.9236507412\n",
      "Adjusted R-squared_train: 0.676269184839732\n"
     ]
    }
   ],
   "source": [
    "mse_train = mean_squared_error(y_train, y_pred_train)\n",
    "print(f\"MSE_train: {mse_train}\")\n",
    "mae_train = mean_absolute_error(y_train, y_pred_train)\n",
    "print(f\"MAE_train: {mae_train}\")\n",
    "r2_train = r2_score(y_train, y_pred_train)\n",
    "print(\"R2_train:\", r2_train)\n",
    "rmse_train = np.sqrt(mse_train)\n",
    "print(f\"RMSE_train: {rmse_train}\")\n",
    "n = X_train.shape[0]  # number of samples\n",
    "p = X_train.shape[1]  # number of predictors (features)\n",
    "adjusted_r2_train = 1 - (1 - r2_train) * (n - 1) / (n - p - 1)\n",
    "print(f\"Adjusted R-squared_train: {adjusted_r2_train}\")"
   ]
  },
  {
   "cell_type": "code",
   "execution_count": 43,
   "id": "803e6f30",
   "metadata": {},
   "outputs": [
    {
     "name": "stdout",
     "output_type": "stream",
     "text": [
      "The model may be overfitting (lower training error, higher test error).\n"
     ]
    }
   ],
   "source": [
    "# Check for overfitting or underfitting\n",
    "if mse_train < mse:\n",
    "    print(\"The model may be overfitting (lower training error, higher test error).\")\n",
    "elif mse_train > mse:\n",
    "    print(\"The model may be underfitting (higher training error, lower test error).\")\n",
    "else:\n",
    "    print(\"The model generalizes well (similar performance on training and test data).\")"
   ]
  },
  {
   "cell_type": "markdown",
   "id": "00fd2f10",
   "metadata": {},
   "source": [
    "#### Notice: the code above, correctly detects overfitting based on the difference between training and test MSE values (which is common).\n",
    "\n",
    "Since the difference is not severe, so the model is not performing poorly.\n",
    "\n",
    "result shows well generalization of linear regression model in the housing dataset."
   ]
  },
  {
   "cell_type": "code",
   "execution_count": null,
   "id": "3042f4da",
   "metadata": {},
   "outputs": [],
   "source": [
    "# Now I want to provide a program that calculates the difference between the training data metrics and test data metrics to assess overfitting more precisely."
   ]
  },
  {
   "cell_type": "code",
   "execution_count": 44,
   "id": "bcd0ba32",
   "metadata": {},
   "outputs": [
    {
     "name": "stdout",
     "output_type": "stream",
     "text": [
      "Test Data Metrics:\n",
      "MSE: 1754318687330.6682\n",
      "MSE_train: 968358188440.7242\n",
      "MAE: 970043.4039201641\n",
      "MAE_train: 719242.8936724712\n",
      "R2: 0.6529242642153175\n",
      "R2_train: 0.6859438988560158\n",
      "RMSE: 1324506.9600914402\n",
      "RMSE_train: 984051.9236507412\n",
      "Adjusted R-squared: 0.605429689844782\n",
      "Adjusted R-squared_train: 0.676269184839732\n"
     ]
    }
   ],
   "source": [
    "print(\"Test Data Metrics:\")\n",
    "print(f\"MSE: {mse}\")\n",
    "print(f\"MSE_train: {mse_train}\")\n",
    "print(f\"MAE: {mae}\")\n",
    "print(f\"MAE_train: {mae_train}\")\n",
    "print(f\"R2: {r2}\")\n",
    "print(\"R2_train:\", r2_train)\n",
    "print(f\"RMSE: {rmse}\")\n",
    "print(f\"RMSE_train: {rmse_train}\")\n",
    "print(f\"Adjusted R-squared: {adjusted_r2}\")\n",
    "print(f\"Adjusted R-squared_train: {adjusted_r2_train}\")"
   ]
  },
  {
   "cell_type": "code",
   "execution_count": 47,
   "id": "66f4129f",
   "metadata": {},
   "outputs": [
    {
     "name": "stdout",
     "output_type": "stream",
     "text": [
      "Overfitting detected based on MSE. MSE difference is 81.16%\n",
      "Overfitting detected based on MAE. MAE difference is 34.87%\n",
      "Overfitting detected based on RMSE. RMSE difference is 34.60%\n"
     ]
    }
   ],
   "source": [
    "# Assuming these are your metrics from the training and test datasets:\n",
    "mse_train = 968358188440.7242\n",
    "mse = 1754318687330.6682\n",
    "\n",
    "mae_train = 719242.8936724712\n",
    "mae = 970043.4039201641\n",
    "\n",
    "rmse_train = 984051.9236507412\n",
    "rmse = 1324506.9600914402\n",
    "\n",
    "# Set threshold for acceptable difference (you can adjust this value)\n",
    "mse_threshold = 0.2  # 20% difference\n",
    "mae_threshold = 0.2  # 20% difference\n",
    "rmse_threshold = 0.2  # 20% difference\n",
    "\n",
    "# This part calculates the percentage difference between the test and training errors for each metric (MSE, MAE, RMSE).\n",
    "mse_diff = (mse - mse_train) / mse_train\n",
    "mae_diff = (mae - mae_train) / mae_train\n",
    "rmse_diff = (rmse - rmse_train) / rmse_train\n",
    "\n",
    "# Check if the difference exceeds the threshold\n",
    "if mse_diff > mse_threshold:\n",
    "    print(f\"Overfitting detected based on MSE. MSE difference is {mse_diff*100:.2f}%\")\n",
    "else:\n",
    "    print(f\"MSE difference is within acceptable range. MSE difference is {mse_diff*100:.2f}%\")\n",
    "\n",
    "if mae_diff > mae_threshold:\n",
    "    print(f\"Overfitting detected based on MAE. MAE difference is {mae_diff*100:.2f}%\")\n",
    "else:\n",
    "    print(f\"MAE difference is within acceptable range. MAE difference is {mae_diff*100:.2f}%\")\n",
    "\n",
    "if rmse_diff > rmse_threshold:\n",
    "    print(f\"Overfitting detected based on RMSE. RMSE difference is {rmse_diff*100:.2f}%\")\n",
    "else:\n",
    "    print(f\"RMSE difference is within acceptable range. RMSE difference is {rmse_diff*100:.2f}%\")\n"
   ]
  },
  {
   "cell_type": "code",
   "execution_count": null,
   "id": "6cf9e038",
   "metadata": {},
   "outputs": [],
   "source": [
    "# interpretting: The result of the code shows that your model is indeed overfitting based on the MSE, MAE, and RMSE differences between the training and test sets.\n",
    "# The high percentage differences (81% for MSE, 34% for MAE, and 34% for RMSE) indicate that overfitting is occurring."
   ]
  },
  {
   "cell_type": "code",
   "execution_count": null,
   "id": "4194503b",
   "metadata": {},
   "outputs": [],
   "source": [
    "# to reduce overfitting and improve the model's generalization to unseen data, you can apply the following strategies:\n",
    "# 1. Regularization (L1 or L2)\n",
    "# 2. Cross-Validation\n",
    "# 3. Reduce Model Complexity\n",
    "# 4. Increase Training Data\n",
    "# 5. Early Stopping (for Iterative Models)"
   ]
  },
  {
   "cell_type": "markdown",
   "id": "4ec60d9f",
   "metadata": {},
   "source": [
    "## To address overfitting, first use feature selection method\n",
    "\n",
    "#### 1. Use techniques like recursive feature elimination (RFE) to reduce the number of features.\n",
    "\n",
    "Recursive feature elimination (RFE) technique helps us to select the most important features in the dataset, in this case house price dataset.\n",
    "\n",
    "In other words, we are transforming our dataset using Recursive Feature Elimination (RFE) to reduce the number of features based on their importance."
   ]
  },
  {
   "cell_type": "code",
   "execution_count": 49,
   "id": "72ba95c9",
   "metadata": {},
   "outputs": [
    {
     "data": {
      "text/html": [
       "<style>#sk-container-id-3 {color: black;}#sk-container-id-3 pre{padding: 0;}#sk-container-id-3 div.sk-toggleable {background-color: white;}#sk-container-id-3 label.sk-toggleable__label {cursor: pointer;display: block;width: 100%;margin-bottom: 0;padding: 0.3em;box-sizing: border-box;text-align: center;}#sk-container-id-3 label.sk-toggleable__label-arrow:before {content: \"▸\";float: left;margin-right: 0.25em;color: #696969;}#sk-container-id-3 label.sk-toggleable__label-arrow:hover:before {color: black;}#sk-container-id-3 div.sk-estimator:hover label.sk-toggleable__label-arrow:before {color: black;}#sk-container-id-3 div.sk-toggleable__content {max-height: 0;max-width: 0;overflow: hidden;text-align: left;background-color: #f0f8ff;}#sk-container-id-3 div.sk-toggleable__content pre {margin: 0.2em;color: black;border-radius: 0.25em;background-color: #f0f8ff;}#sk-container-id-3 input.sk-toggleable__control:checked~div.sk-toggleable__content {max-height: 200px;max-width: 100%;overflow: auto;}#sk-container-id-3 input.sk-toggleable__control:checked~label.sk-toggleable__label-arrow:before {content: \"▾\";}#sk-container-id-3 div.sk-estimator input.sk-toggleable__control:checked~label.sk-toggleable__label {background-color: #d4ebff;}#sk-container-id-3 div.sk-label input.sk-toggleable__control:checked~label.sk-toggleable__label {background-color: #d4ebff;}#sk-container-id-3 input.sk-hidden--visually {border: 0;clip: rect(1px 1px 1px 1px);clip: rect(1px, 1px, 1px, 1px);height: 1px;margin: -1px;overflow: hidden;padding: 0;position: absolute;width: 1px;}#sk-container-id-3 div.sk-estimator {font-family: monospace;background-color: #f0f8ff;border: 1px dotted black;border-radius: 0.25em;box-sizing: border-box;margin-bottom: 0.5em;}#sk-container-id-3 div.sk-estimator:hover {background-color: #d4ebff;}#sk-container-id-3 div.sk-parallel-item::after {content: \"\";width: 100%;border-bottom: 1px solid gray;flex-grow: 1;}#sk-container-id-3 div.sk-label:hover label.sk-toggleable__label {background-color: #d4ebff;}#sk-container-id-3 div.sk-serial::before {content: \"\";position: absolute;border-left: 1px solid gray;box-sizing: border-box;top: 0;bottom: 0;left: 50%;z-index: 0;}#sk-container-id-3 div.sk-serial {display: flex;flex-direction: column;align-items: center;background-color: white;padding-right: 0.2em;padding-left: 0.2em;position: relative;}#sk-container-id-3 div.sk-item {position: relative;z-index: 1;}#sk-container-id-3 div.sk-parallel {display: flex;align-items: stretch;justify-content: center;background-color: white;position: relative;}#sk-container-id-3 div.sk-item::before, #sk-container-id-3 div.sk-parallel-item::before {content: \"\";position: absolute;border-left: 1px solid gray;box-sizing: border-box;top: 0;bottom: 0;left: 50%;z-index: -1;}#sk-container-id-3 div.sk-parallel-item {display: flex;flex-direction: column;z-index: 1;position: relative;background-color: white;}#sk-container-id-3 div.sk-parallel-item:first-child::after {align-self: flex-end;width: 50%;}#sk-container-id-3 div.sk-parallel-item:last-child::after {align-self: flex-start;width: 50%;}#sk-container-id-3 div.sk-parallel-item:only-child::after {width: 0;}#sk-container-id-3 div.sk-dashed-wrapped {border: 1px dashed gray;margin: 0 0.4em 0.5em 0.4em;box-sizing: border-box;padding-bottom: 0.4em;background-color: white;}#sk-container-id-3 div.sk-label label {font-family: monospace;font-weight: bold;display: inline-block;line-height: 1.2em;}#sk-container-id-3 div.sk-label-container {text-align: center;}#sk-container-id-3 div.sk-container {/* jupyter's `normalize.less` sets `[hidden] { display: none; }` but bootstrap.min.css set `[hidden] { display: none !important; }` so we also need the `!important` here to be able to override the default hidden behavior on the sphinx rendered scikit-learn.org. See: https://github.com/scikit-learn/scikit-learn/issues/21755 */display: inline-block !important;position: relative;}#sk-container-id-3 div.sk-text-repr-fallback {display: none;}</style><div id=\"sk-container-id-3\" class=\"sk-top-container\"><div class=\"sk-text-repr-fallback\"><pre>RFE(estimator=LinearRegression(), n_features_to_select=5)</pre><b>In a Jupyter environment, please rerun this cell to show the HTML representation or trust the notebook. <br />On GitHub, the HTML representation is unable to render, please try loading this page with nbviewer.org.</b></div><div class=\"sk-container\" hidden><div class=\"sk-item sk-dashed-wrapped\"><div class=\"sk-label-container\"><div class=\"sk-label sk-toggleable\"><input class=\"sk-toggleable__control sk-hidden--visually\" id=\"sk-estimator-id-5\" type=\"checkbox\" ><label for=\"sk-estimator-id-5\" class=\"sk-toggleable__label sk-toggleable__label-arrow\">RFE</label><div class=\"sk-toggleable__content\"><pre>RFE(estimator=LinearRegression(), n_features_to_select=5)</pre></div></div></div><div class=\"sk-parallel\"><div class=\"sk-parallel-item\"><div class=\"sk-item\"><div class=\"sk-label-container\"><div class=\"sk-label sk-toggleable\"><input class=\"sk-toggleable__control sk-hidden--visually\" id=\"sk-estimator-id-6\" type=\"checkbox\" ><label for=\"sk-estimator-id-6\" class=\"sk-toggleable__label sk-toggleable__label-arrow\">estimator: LinearRegression</label><div class=\"sk-toggleable__content\"><pre>LinearRegression()</pre></div></div></div><div class=\"sk-serial\"><div class=\"sk-item\"><div class=\"sk-estimator sk-toggleable\"><input class=\"sk-toggleable__control sk-hidden--visually\" id=\"sk-estimator-id-7\" type=\"checkbox\" ><label for=\"sk-estimator-id-7\" class=\"sk-toggleable__label sk-toggleable__label-arrow\">LinearRegression</label><div class=\"sk-toggleable__content\"><pre>LinearRegression()</pre></div></div></div></div></div></div></div></div></div></div>"
      ],
      "text/plain": [
       "RFE(estimator=LinearRegression(), n_features_to_select=5)"
      ]
     },
     "execution_count": 49,
     "metadata": {},
     "output_type": "execute_result"
    }
   ],
   "source": [
    "from sklearn.feature_selection import RFE\n",
    "selector = RFE(model, n_features_to_select=5)\n",
    "selector.fit(X_train, y_train)"
   ]
  },
  {
   "cell_type": "markdown",
   "id": "6ec3e25e",
   "metadata": {},
   "source": [
    "#### 2. Access the Selected Features:\n",
    "\n",
    "After running RFE, the selector object will contain information about which features were selected. You can use the support_ attribute to see which features were selected."
   ]
  },
  {
   "cell_type": "code",
   "execution_count": 50,
   "id": "9b83d0a4",
   "metadata": {},
   "outputs": [
    {
     "name": "stdout",
     "output_type": "stream",
     "text": [
      "Selected features: [ True False  True  True False False False False False  True  True False\n",
      " False]\n",
      "Feature ranking: [1 9 1 1 3 6 7 2 5 1 1 8 4]\n"
     ]
    }
   ],
   "source": [
    "# Get the boolean mask indicating which features were selected\n",
    "selected_features = selector.support_\n",
    "print(\"Selected features:\", selected_features)\n",
    "\n",
    "# Alternatively, get the ranking of all features (1 = selected)\n",
    "feature_ranking = selector.ranking_\n",
    "print(\"Feature ranking:\", feature_ranking)\n"
   ]
  },
  {
   "cell_type": "markdown",
   "id": "38889a86",
   "metadata": {},
   "source": [
    "### Let's interpret this output:\n",
    "\n",
    "High rank like 9 means less importance meaning it contributes the less to the model's predictive performance.\n",
    "\n",
    "Rank 1 means it contributes the high to the model's predictive performance.\n",
    "\n",
    "In selected features, True means the feature is selected, and False meanse the feature is not selected. \n",
    "\n",
    "As you see in the outout, all feature with rank 1 are selected to be eliminated because they have high contribution to the model's predictive performance."
   ]
  },
  {
   "cell_type": "markdown",
   "id": "8884dc80",
   "metadata": {},
   "source": [
    "#### 3. Transform the Training and Test Data:\n",
    "\n",
    "You need to transform both your training and test data to include only the selected features. The selector.transform() method will reduce your datasets to include only the top 5 features selected by RFE."
   ]
  },
  {
   "cell_type": "code",
   "execution_count": 51,
   "id": "ac78b48f",
   "metadata": {},
   "outputs": [],
   "source": [
    "# Transform X_train and X_test to include only the selected features\n",
    "X_train_selected = selector.transform(X_train)\n",
    "X_test_selected = selector.transform(X_test)"
   ]
  },
  {
   "cell_type": "code",
   "execution_count": 52,
   "id": "e45409c8",
   "metadata": {},
   "outputs": [
    {
     "data": {
      "text/plain": [
       "array([[ 0.3917898 ,  1.42181174,  2.53202371,  1.4726183 , -0.55403469],\n",
       "       [ 0.94525725,  1.42181174, -0.92939666,  1.4726183 , -0.55403469],\n",
       "       [-0.61552098, -0.57018671, -0.92939666,  1.4726183 , -0.55403469],\n",
       "       ...,\n",
       "       [-0.30004453,  1.42181174,  1.37821692, -0.67906259, -0.55403469],\n",
       "       [-0.51220705, -0.57018671, -0.92939666, -0.67906259, -0.55403469],\n",
       "       [ 0.16117836,  1.42181174,  2.53202371,  1.4726183 , -0.55403469]])"
      ]
     },
     "execution_count": 52,
     "metadata": {},
     "output_type": "execute_result"
    }
   ],
   "source": [
    "X_train_selected"
   ]
  },
  {
   "cell_type": "code",
   "execution_count": 53,
   "id": "b9a1c34b",
   "metadata": {},
   "outputs": [
    {
     "data": {
      "text/plain": [
       "array([[ 0.34566751,  1.42181174,  0.22441013, -0.67906259, -0.55403469],\n",
       "       [ 0.62240124,  1.42181174,  1.37821692,  1.4726183 ,  1.80494113],\n",
       "       [-0.51220705, -0.57018671, -0.92939666, -0.67906259, -0.55403469],\n",
       "       [-0.06943308, -0.57018671,  0.22441013,  1.4726183 , -0.55403469],\n",
       "       [-0.54910488, -0.57018671, -0.92939666, -0.67906259, -0.55403469],\n",
       "       [ 0.72387027, -0.57018671, -0.92939666, -0.67906259, -0.55403469],\n",
       "       [ 1.55407146, -0.57018671, -0.92939666,  1.4726183 , -0.55403469],\n",
       "       [-0.07404531,  1.42181174,  0.22441013, -0.67906259,  1.80494113],\n",
       "       [-0.88118536, -0.57018671, -0.92939666, -0.67906259, -0.55403469],\n",
       "       [-1.13024571, -0.57018671, -0.92939666, -0.67906259, -0.55403469],\n",
       "       [ 1.58174483,  3.41381019,  2.53202371,  1.4726183 ,  1.80494113],\n",
       "       [-0.56109668, -0.57018671, -0.92939666, -0.67906259, -0.55403469],\n",
       "       [-0.65979837, -0.57018671, -0.92939666,  1.4726183 , -0.55403469],\n",
       "       [-0.94575656, -0.57018671,  0.22441013, -0.67906259, -0.55403469],\n",
       "       [-0.54449265, -0.57018671,  0.22441013, -0.67906259, -0.55403469],\n",
       "       [-0.70130843,  3.41381019,  0.22441013, -0.67906259, -0.55403469],\n",
       "       [-1.45310173, -0.57018671,  0.22441013, -0.67906259, -0.55403469],\n",
       "       [ 0.3917898 , -0.57018671,  0.22441013,  1.4726183 , -0.55403469],\n",
       "       [ 0.32260636, -0.57018671,  0.22441013, -0.67906259, -0.55403469],\n",
       "       [ 0.3917898 , -0.57018671, -0.92939666, -0.67906259, -0.55403469],\n",
       "       [-0.06020863, -0.57018671,  2.53202371,  1.4726183 ,  1.80494113],\n",
       "       [ 0.77229867, -0.57018671, -0.92939666,  1.4726183 ,  1.80494113],\n",
       "       [-0.6925452 , -0.57018671, -0.92939666, -0.67906259, -0.55403469],\n",
       "       [-0.62290054, -0.57018671,  0.22441013, -0.67906259,  1.80494113],\n",
       "       [ 1.42954128, -0.57018671, -0.92939666, -0.67906259, -0.55403469],\n",
       "       [ 2.21823241,  1.42181174,  0.22441013, -0.67906259,  1.80494113],\n",
       "       [-0.95036879, -0.57018671, -0.92939666, -0.67906259, -0.55403469],\n",
       "       [-0.99187885,  1.42181174,  0.22441013, -0.67906259, -0.55403469],\n",
       "       [ 3.71259454, -0.57018671,  0.22441013,  1.4726183 ,  1.80494113],\n",
       "       [-0.99187885, -0.57018671,  0.22441013, -0.67906259, -0.55403469],\n",
       "       [-0.53065597,  1.42181174,  0.22441013,  1.4726183 ,  1.80494113],\n",
       "       [-0.9365321 , -0.57018671,  0.22441013, -0.67906259, -0.55403469],\n",
       "       [ 0.3917898 ,  1.42181174,  1.37821692,  1.4726183 , -0.55403469],\n",
       "       [ 0.67544187, -0.57018671,  0.22441013, -0.67906259, -0.55403469],\n",
       "       [-0.17320823, -0.57018671,  0.22441013, -0.67906259, -0.55403469],\n",
       "       [-0.25392224,  1.42181174,  0.22441013,  1.4726183 , -0.55403469],\n",
       "       [-0.23270599, -0.57018671,  0.22441013, -0.67906259, -0.55403469],\n",
       "       [-0.90885873, -0.57018671,  0.22441013,  1.4726183 , -0.55403469],\n",
       "       [-0.77049186, -0.57018671, -0.92939666,  1.4726183 , -0.55403469],\n",
       "       [-1.09011932,  1.42181174,  0.22441013, -0.67906259, -0.55403469],\n",
       "       [ 1.3050111 , -0.57018671, -0.92939666, -0.67906259, -0.55403469],\n",
       "       [-0.70130843, -0.57018671, -0.92939666,  1.4726183 , -0.55403469],\n",
       "       [ 0.58550341,  1.42181174,  1.37821692,  1.4726183 ,  1.80494113],\n",
       "       [-0.43841139, -0.57018671,  0.22441013, -0.67906259, -0.55403469],\n",
       "       [ 0.73770696, -0.57018671, -0.92939666, -0.67906259, -0.55403469],\n",
       "       [ 0.33874917, -0.57018671, -0.92939666,  1.4726183 , -0.55403469],\n",
       "       [ 0.3917898 ,  1.42181174,  2.53202371,  1.4726183 , -0.55403469],\n",
       "       [-0.23547332, -0.57018671,  0.22441013, -0.67906259, -0.55403469],\n",
       "       [ 1.3372967 , -0.57018671, -0.92939666, -0.67906259, -0.55403469],\n",
       "       [-0.99187885, -0.57018671, -0.92939666, -0.67906259, -0.55403469],\n",
       "       [ 1.07209355,  1.42181174,  2.53202371,  1.4726183 , -0.55403469],\n",
       "       [-0.99187885, -0.57018671, -0.92939666, -0.67906259, -0.55403469],\n",
       "       [ 1.2081543 , -0.57018671, -0.92939666, -0.67906259, -0.55403469],\n",
       "       [-0.30004453, -0.57018671,  0.22441013,  1.4726183 , -0.55403469],\n",
       "       [-0.6966962 , -0.57018671,  0.22441013, -0.67906259, -0.55403469],\n",
       "       [-1.03338891, -0.57018671, -0.92939666, -0.67906259, -0.55403469],\n",
       "       [ 0.27648408,  1.42181174,  2.53202371,  1.4726183 ,  1.80494113],\n",
       "       [-1.26861258, -0.57018671,  0.22441013, -0.67906259, -0.55403469],\n",
       "       [ 0.59934009, -0.57018671,  0.22441013, -0.67906259, -0.55403469],\n",
       "       [-0.62290054, -0.57018671, -0.92939666, -0.67906259, -0.55403469],\n",
       "       [-0.90885873,  1.42181174, -0.92939666, -0.67906259, -0.55403469],\n",
       "       [-1.39083664,  1.42181174,  0.22441013, -0.67906259, -0.55403469],\n",
       "       [ 0.59472786, -0.57018671, -0.92939666,  1.4726183 , -0.55403469],\n",
       "       [-0.087882  , -0.57018671, -0.92939666,  1.4726183 , -0.55403469],\n",
       "       [ 0.09660715, -0.57018671,  0.22441013, -0.67906259,  1.80494113],\n",
       "       [-0.64134946, -0.57018671,  0.22441013, -0.67906259, -0.55403469],\n",
       "       [ 0.66852353,  1.42181174,  2.53202371, -0.67906259,  1.80494113],\n",
       "       [-0.99187885, -0.57018671,  0.22441013, -0.67906259, -0.55403469],\n",
       "       [ 1.49872471, -0.57018671,  2.53202371, -0.67906259, -0.55403469],\n",
       "       [ 0.25342293, -0.57018671, -0.92939666,  1.4726183 ,  1.80494113],\n",
       "       [-1.06106228,  1.42181174,  0.22441013, -0.67906259,  1.80494113],\n",
       "       [ 0.55783003, -0.57018671,  1.37821692, -0.67906259,  1.80494113],\n",
       "       [ 1.49872471, -0.57018671, -0.92939666, -0.67906259, -0.55403469],\n",
       "       [ 2.46729276,  1.42181174, -0.92939666,  1.4726183 ,  1.80494113],\n",
       "       [-1.13762528, -0.57018671, -0.92939666,  1.4726183 , -0.55403469],\n",
       "       [-0.41073802,  1.42181174,  0.22441013, -0.67906259, -0.55403469],\n",
       "       [-0.70130843, -0.57018671,  0.22441013, -0.67906259, -0.55403469],\n",
       "       [-0.15475932, -0.57018671, -0.92939666,  1.4726183 ,  1.80494113],\n",
       "       [ 0.3917898 , -0.57018671, -0.92939666,  1.4726183 , -0.55403469],\n",
       "       [ 0.06893378, -0.57018671, -0.92939666,  1.4726183 ,  1.80494113],\n",
       "       [ 0.55783003,  1.42181174,  1.37821692,  1.4726183 ,  1.80494113],\n",
       "       [-0.49375814, -0.57018671,  0.22441013, -0.67906259, -0.55403469],\n",
       "       [ 0.16117836,  1.42181174, -0.92939666, -0.67906259,  1.80494113],\n",
       "       [ 0.70080913, -0.57018671,  1.37821692, -0.67906259,  1.80494113],\n",
       "       [-1.59146859, -0.57018671,  0.22441013, -0.67906259, -0.55403469],\n",
       "       [ 0.37334088,  3.41381019,  0.22441013, -0.67906259, -0.55403469],\n",
       "       [-1.08412342, -0.57018671, -0.92939666, -0.67906259, -0.55403469],\n",
       "       [-0.78432855, -0.57018671,  0.22441013, -0.67906259, -0.55403469],\n",
       "       [ 1.04672629,  1.42181174,  1.37821692,  1.4726183 ,  1.80494113],\n",
       "       [ 0.3917898 ,  3.41381019,  0.22441013, -0.67906259, -0.55403469],\n",
       "       [-1.4969179 , -0.57018671,  0.22441013, -0.67906259, -0.55403469],\n",
       "       [ 1.3372967 , -0.57018671, -0.92939666,  1.4726183 , -0.55403469],\n",
       "       [ 0.13811721, -0.57018671, -0.92939666, -0.67906259, -0.55403469],\n",
       "       [-0.80277747, -0.57018671,  0.22441013,  1.4726183 , -0.55403469],\n",
       "       [ 1.58174483,  3.41381019,  0.22441013, -0.67906259, -0.55403469],\n",
       "       [-0.66902283, -0.57018671,  0.22441013,  1.4726183 , -0.55403469],\n",
       "       [ 0.31245946, -0.57018671,  2.53202371, -0.67906259, -0.55403469],\n",
       "       [ 0.29954522,  1.42181174,  2.53202371,  1.4726183 , -0.55403469],\n",
       "       [ 0.16117836, -0.57018671,  1.37821692, -0.67906259,  1.80494113],\n",
       "       [ 0.66852353,  1.42181174, -0.92939666, -0.67906259,  1.80494113],\n",
       "       [-0.88118536, -0.57018671,  0.22441013, -0.67906259, -0.55403469],\n",
       "       [-0.25392224,  1.42181174,  0.22441013,  1.4726183 , -0.55403469],\n",
       "       [-1.00571553, -0.57018671,  1.37821692, -0.67906259, -0.55403469],\n",
       "       [-0.85351198,  3.41381019,  0.22441013, -0.67906259, -0.55403469],\n",
       "       [ 0.3917898 , -0.57018671,  0.22441013, -0.67906259, -0.55403469],\n",
       "       [ 0.82072708, -0.57018671,  0.22441013, -0.67906259, -0.55403469],\n",
       "       [ 0.3917898 ,  1.42181174,  2.53202371,  1.4726183 , -0.55403469],\n",
       "       [ 0.3917898 ,  1.42181174,  0.22441013,  1.4726183 , -0.55403469],\n",
       "       [ 0.43791208,  1.42181174, -0.92939666, -0.67906259,  1.80494113]])"
      ]
     },
     "execution_count": 53,
     "metadata": {},
     "output_type": "execute_result"
    }
   ],
   "source": [
    "X_test_selected"
   ]
  },
  {
   "cell_type": "markdown",
   "id": "c7d47df5",
   "metadata": {},
   "source": [
    "Now, X_train_selected and X_test_selected will contain only the top 5 features chosen by RFE."
   ]
  },
  {
   "cell_type": "markdown",
   "id": "b4edb558",
   "metadata": {},
   "source": [
    "#### 4. Train the Model on the Selected Features:\n",
    "\n",
    "Use the transformed training data (X_train_selected) to re-train your model."
   ]
  },
  {
   "cell_type": "code",
   "execution_count": 54,
   "id": "61c6b364",
   "metadata": {},
   "outputs": [
    {
     "data": {
      "text/html": [
       "<style>#sk-container-id-4 {color: black;}#sk-container-id-4 pre{padding: 0;}#sk-container-id-4 div.sk-toggleable {background-color: white;}#sk-container-id-4 label.sk-toggleable__label {cursor: pointer;display: block;width: 100%;margin-bottom: 0;padding: 0.3em;box-sizing: border-box;text-align: center;}#sk-container-id-4 label.sk-toggleable__label-arrow:before {content: \"▸\";float: left;margin-right: 0.25em;color: #696969;}#sk-container-id-4 label.sk-toggleable__label-arrow:hover:before {color: black;}#sk-container-id-4 div.sk-estimator:hover label.sk-toggleable__label-arrow:before {color: black;}#sk-container-id-4 div.sk-toggleable__content {max-height: 0;max-width: 0;overflow: hidden;text-align: left;background-color: #f0f8ff;}#sk-container-id-4 div.sk-toggleable__content pre {margin: 0.2em;color: black;border-radius: 0.25em;background-color: #f0f8ff;}#sk-container-id-4 input.sk-toggleable__control:checked~div.sk-toggleable__content {max-height: 200px;max-width: 100%;overflow: auto;}#sk-container-id-4 input.sk-toggleable__control:checked~label.sk-toggleable__label-arrow:before {content: \"▾\";}#sk-container-id-4 div.sk-estimator input.sk-toggleable__control:checked~label.sk-toggleable__label {background-color: #d4ebff;}#sk-container-id-4 div.sk-label input.sk-toggleable__control:checked~label.sk-toggleable__label {background-color: #d4ebff;}#sk-container-id-4 input.sk-hidden--visually {border: 0;clip: rect(1px 1px 1px 1px);clip: rect(1px, 1px, 1px, 1px);height: 1px;margin: -1px;overflow: hidden;padding: 0;position: absolute;width: 1px;}#sk-container-id-4 div.sk-estimator {font-family: monospace;background-color: #f0f8ff;border: 1px dotted black;border-radius: 0.25em;box-sizing: border-box;margin-bottom: 0.5em;}#sk-container-id-4 div.sk-estimator:hover {background-color: #d4ebff;}#sk-container-id-4 div.sk-parallel-item::after {content: \"\";width: 100%;border-bottom: 1px solid gray;flex-grow: 1;}#sk-container-id-4 div.sk-label:hover label.sk-toggleable__label {background-color: #d4ebff;}#sk-container-id-4 div.sk-serial::before {content: \"\";position: absolute;border-left: 1px solid gray;box-sizing: border-box;top: 0;bottom: 0;left: 50%;z-index: 0;}#sk-container-id-4 div.sk-serial {display: flex;flex-direction: column;align-items: center;background-color: white;padding-right: 0.2em;padding-left: 0.2em;position: relative;}#sk-container-id-4 div.sk-item {position: relative;z-index: 1;}#sk-container-id-4 div.sk-parallel {display: flex;align-items: stretch;justify-content: center;background-color: white;position: relative;}#sk-container-id-4 div.sk-item::before, #sk-container-id-4 div.sk-parallel-item::before {content: \"\";position: absolute;border-left: 1px solid gray;box-sizing: border-box;top: 0;bottom: 0;left: 50%;z-index: -1;}#sk-container-id-4 div.sk-parallel-item {display: flex;flex-direction: column;z-index: 1;position: relative;background-color: white;}#sk-container-id-4 div.sk-parallel-item:first-child::after {align-self: flex-end;width: 50%;}#sk-container-id-4 div.sk-parallel-item:last-child::after {align-self: flex-start;width: 50%;}#sk-container-id-4 div.sk-parallel-item:only-child::after {width: 0;}#sk-container-id-4 div.sk-dashed-wrapped {border: 1px dashed gray;margin: 0 0.4em 0.5em 0.4em;box-sizing: border-box;padding-bottom: 0.4em;background-color: white;}#sk-container-id-4 div.sk-label label {font-family: monospace;font-weight: bold;display: inline-block;line-height: 1.2em;}#sk-container-id-4 div.sk-label-container {text-align: center;}#sk-container-id-4 div.sk-container {/* jupyter's `normalize.less` sets `[hidden] { display: none; }` but bootstrap.min.css set `[hidden] { display: none !important; }` so we also need the `!important` here to be able to override the default hidden behavior on the sphinx rendered scikit-learn.org. See: https://github.com/scikit-learn/scikit-learn/issues/21755 */display: inline-block !important;position: relative;}#sk-container-id-4 div.sk-text-repr-fallback {display: none;}</style><div id=\"sk-container-id-4\" class=\"sk-top-container\"><div class=\"sk-text-repr-fallback\"><pre>LinearRegression()</pre><b>In a Jupyter environment, please rerun this cell to show the HTML representation or trust the notebook. <br />On GitHub, the HTML representation is unable to render, please try loading this page with nbviewer.org.</b></div><div class=\"sk-container\" hidden><div class=\"sk-item\"><div class=\"sk-estimator sk-toggleable\"><input class=\"sk-toggleable__control sk-hidden--visually\" id=\"sk-estimator-id-8\" type=\"checkbox\" checked><label for=\"sk-estimator-id-8\" class=\"sk-toggleable__label sk-toggleable__label-arrow\">LinearRegression</label><div class=\"sk-toggleable__content\"><pre>LinearRegression()</pre></div></div></div></div></div>"
      ],
      "text/plain": [
       "LinearRegression()"
      ]
     },
     "execution_count": 54,
     "metadata": {},
     "output_type": "execute_result"
    }
   ],
   "source": [
    "# Re-train the model using only the selected features\n",
    "model.fit(X_train_selected, y_train)"
   ]
  },
  {
   "cell_type": "markdown",
   "id": "62d01a49",
   "metadata": {},
   "source": [
    "#### 5. Predict Using the Test Set:\n",
    "\n",
    "Use the transformed test set (X_test_selected) to make predictions and evaluate the model’s performance."
   ]
  },
  {
   "cell_type": "code",
   "execution_count": 56,
   "id": "fb229c70",
   "metadata": {},
   "outputs": [],
   "source": [
    "# Make predictions using the test data with selected features\n",
    "y_test_pred = model.predict(X_test_selected)"
   ]
  },
  {
   "cell_type": "markdown",
   "id": "76298eae",
   "metadata": {},
   "source": [
    "#### 6. Evaluate the Model:\n",
    "\n",
    "After making predictions on the test set, evaluate the model using metrics like MSE, MAE, R², etc., to see how well the model performs with the reduced feature set."
   ]
  },
  {
   "cell_type": "code",
   "execution_count": 57,
   "id": "b4704d6b",
   "metadata": {},
   "outputs": [
    {
     "name": "stdout",
     "output_type": "stream",
     "text": [
      "Test MSE: 2153301845033.9512\n",
      "Test R²: 0.5739891345689093\n"
     ]
    }
   ],
   "source": [
    "from sklearn.metrics import mean_squared_error, r2_score\n",
    "\n",
    "# Calculate and print evaluation metrics\n",
    "mse_test = mean_squared_error(y_test, y_test_pred)\n",
    "r2_test = r2_score(y_test, y_test_pred)\n",
    "\n",
    "print(f\"Test MSE: {mse_test}\")\n",
    "print(f\"Test R²: {r2_test}\")"
   ]
  },
  {
   "cell_type": "code",
   "execution_count": null,
   "id": "68c43fd5",
   "metadata": {},
   "outputs": [],
   "source": []
  },
  {
   "cell_type": "code",
   "execution_count": 45,
   "id": "4843a97d",
   "metadata": {},
   "outputs": [],
   "source": [
    "from sklearn.linear_model import Lasso\n",
    "# Initialize Lasso with alpha (regularization strength)\n",
    "lasso = Lasso(alpha=0.1)\n",
    "# Fit the model\n",
    "lasso.fit(X_train, y_train)\n",
    "# Make predictions\n",
    "y_pred = lasso.predict(X_test)\n"
   ]
  },
  {
   "cell_type": "code",
   "execution_count": 42,
   "id": "0f890dc6",
   "metadata": {},
   "outputs": [
    {
     "data": {
      "text/plain": [
       "array([5164653.95732913, 7224721.81130069, 3109863.61335579,\n",
       "       4612075.54582379, 3294646.15787928, 3532275.36045977,\n",
       "       5611774.30152193, 6368145.37467925, 2722857.25557328,\n",
       "       2629405.62913828, 9617039.19490542, 2798087.6292849 ,\n",
       "       3171097.14434603, 3394639.36500698, 3681088.77166169,\n",
       "       5263187.84354423, 3035963.8089764 , 4786122.92558858,\n",
       "       4349551.9834689 , 3572362.45318035, 5774875.14460856,\n",
       "       5886993.49701932, 2730836.52247368, 4727316.32931929,\n",
       "       5244847.59735763, 7555324.05211551, 3220790.96716643,\n",
       "       5191898.36862588, 8143726.30209052, 3398813.98699938,\n",
       "       6490692.96104275, 3315106.11023633, 6708456.91796928,\n",
       "       4201738.46772225, 3557571.2576798 , 5836974.61721096,\n",
       "       4808660.66159423, 4362878.77231771, 3191243.29934278,\n",
       "       4596554.67954893, 4566043.08621509, 3517779.79871808,\n",
       "       7205844.30763438, 3983597.08363864, 3749339.050052  ,\n",
       "       4274731.30896111, 6757442.13394536, 4037320.6376049 ,\n",
       "       3769335.19291648, 3417627.58589846, 7268416.56737781,\n",
       "       2802534.64962971, 4341750.47964051, 4516422.36253252,\n",
       "       3679997.73503384, 2678959.07626234, 7498028.89622362,\n",
       "       2920366.70159059, 4239582.28240617, 2766467.81064384,\n",
       "       4841309.97493044, 3584359.83876906, 5142141.03365707,\n",
       "       4221869.35779025, 4698408.52490019, 4662380.74886018,\n",
       "       7177840.94125403, 3452199.0397077 , 5902436.84772924,\n",
       "       6198093.73520389, 4773219.02476475, 5178933.40025564,\n",
       "       4490410.82101269, 7968736.85266192, 3519395.19351294,\n",
       "       5501904.77554211, 3947055.36347103, 4714056.54984656,\n",
       "       4792291.06038425, 4250596.94410957, 7718148.59717825,\n",
       "       4053241.32159402, 6453918.00674273, 5355571.49586935,\n",
       "       2755188.54451039, 6796007.92009086, 2607277.68081065,\n",
       "       3679739.10457288, 7968275.52075683, 8078479.94721307,\n",
       "       3266213.98598284, 5897888.09339449, 3569460.9976686 ,\n",
       "       3868965.31445927, 7584429.04514885, 4740586.10037736,\n",
       "       5139372.71056486, 6423485.08306656, 4914078.81977875,\n",
       "       5982087.27371683, 3855027.53309778, 6420307.81599532,\n",
       "       3749108.74603755, 5998642.39830889, 4973331.1362009 ,\n",
       "       4336650.71625046, 7059062.67558999, 6398940.87231264,\n",
       "       6363889.34329876])"
      ]
     },
     "execution_count": 42,
     "metadata": {},
     "output_type": "execute_result"
    }
   ],
   "source": [
    "y_pred"
   ]
  },
  {
   "cell_type": "code",
   "execution_count": 46,
   "id": "82e2e942",
   "metadata": {},
   "outputs": [
    {
     "ename": "ValueError",
     "evalue": "Found input variables with inconsistent numbers of samples: [436, 109]",
     "output_type": "error",
     "traceback": [
      "\u001b[1;31m---------------------------------------------------------------------------\u001b[0m",
      "\u001b[1;31mValueError\u001b[0m                                Traceback (most recent call last)",
      "Cell \u001b[1;32mIn[46], line 1\u001b[0m\n\u001b[1;32m----> 1\u001b[0m train_mse \u001b[38;5;241m=\u001b[39m mean_squared_error(y_train, y_pred)\n\u001b[0;32m      2\u001b[0m train_mae \u001b[38;5;241m=\u001b[39m mean_absolute_error(y_train, y_pred)\n\u001b[0;32m      3\u001b[0m train_r2 \u001b[38;5;241m=\u001b[39m r2_score(y_train, y_pred)\n",
      "File \u001b[1;32mC:\\ProgramData\\anaconda3\\Lib\\site-packages\\sklearn\\utils\\_param_validation.py:211\u001b[0m, in \u001b[0;36mvalidate_params.<locals>.decorator.<locals>.wrapper\u001b[1;34m(*args, **kwargs)\u001b[0m\n\u001b[0;32m    205\u001b[0m \u001b[38;5;28;01mtry\u001b[39;00m:\n\u001b[0;32m    206\u001b[0m     \u001b[38;5;28;01mwith\u001b[39;00m config_context(\n\u001b[0;32m    207\u001b[0m         skip_parameter_validation\u001b[38;5;241m=\u001b[39m(\n\u001b[0;32m    208\u001b[0m             prefer_skip_nested_validation \u001b[38;5;129;01mor\u001b[39;00m global_skip_validation\n\u001b[0;32m    209\u001b[0m         )\n\u001b[0;32m    210\u001b[0m     ):\n\u001b[1;32m--> 211\u001b[0m         \u001b[38;5;28;01mreturn\u001b[39;00m func(\u001b[38;5;241m*\u001b[39margs, \u001b[38;5;241m*\u001b[39m\u001b[38;5;241m*\u001b[39mkwargs)\n\u001b[0;32m    212\u001b[0m \u001b[38;5;28;01mexcept\u001b[39;00m InvalidParameterError \u001b[38;5;28;01mas\u001b[39;00m e:\n\u001b[0;32m    213\u001b[0m     \u001b[38;5;66;03m# When the function is just a wrapper around an estimator, we allow\u001b[39;00m\n\u001b[0;32m    214\u001b[0m     \u001b[38;5;66;03m# the function to delegate validation to the estimator, but we replace\u001b[39;00m\n\u001b[0;32m    215\u001b[0m     \u001b[38;5;66;03m# the name of the estimator by the name of the function in the error\u001b[39;00m\n\u001b[0;32m    216\u001b[0m     \u001b[38;5;66;03m# message to avoid confusion.\u001b[39;00m\n\u001b[0;32m    217\u001b[0m     msg \u001b[38;5;241m=\u001b[39m re\u001b[38;5;241m.\u001b[39msub(\n\u001b[0;32m    218\u001b[0m         \u001b[38;5;124mr\u001b[39m\u001b[38;5;124m\"\u001b[39m\u001b[38;5;124mparameter of \u001b[39m\u001b[38;5;124m\\\u001b[39m\u001b[38;5;124mw+ must be\u001b[39m\u001b[38;5;124m\"\u001b[39m,\n\u001b[0;32m    219\u001b[0m         \u001b[38;5;124mf\u001b[39m\u001b[38;5;124m\"\u001b[39m\u001b[38;5;124mparameter of \u001b[39m\u001b[38;5;132;01m{\u001b[39;00mfunc\u001b[38;5;241m.\u001b[39m\u001b[38;5;18m__qualname__\u001b[39m\u001b[38;5;132;01m}\u001b[39;00m\u001b[38;5;124m must be\u001b[39m\u001b[38;5;124m\"\u001b[39m,\n\u001b[0;32m    220\u001b[0m         \u001b[38;5;28mstr\u001b[39m(e),\n\u001b[0;32m    221\u001b[0m     )\n",
      "File \u001b[1;32mC:\\ProgramData\\anaconda3\\Lib\\site-packages\\sklearn\\metrics\\_regression.py:474\u001b[0m, in \u001b[0;36mmean_squared_error\u001b[1;34m(y_true, y_pred, sample_weight, multioutput, squared)\u001b[0m\n\u001b[0;32m    404\u001b[0m \u001b[38;5;129m@validate_params\u001b[39m(\n\u001b[0;32m    405\u001b[0m     {\n\u001b[0;32m    406\u001b[0m         \u001b[38;5;124m\"\u001b[39m\u001b[38;5;124my_true\u001b[39m\u001b[38;5;124m\"\u001b[39m: [\u001b[38;5;124m\"\u001b[39m\u001b[38;5;124marray-like\u001b[39m\u001b[38;5;124m\"\u001b[39m],\n\u001b[1;32m   (...)\u001b[0m\n\u001b[0;32m    415\u001b[0m     y_true, y_pred, \u001b[38;5;241m*\u001b[39m, sample_weight\u001b[38;5;241m=\u001b[39m\u001b[38;5;28;01mNone\u001b[39;00m, multioutput\u001b[38;5;241m=\u001b[39m\u001b[38;5;124m\"\u001b[39m\u001b[38;5;124muniform_average\u001b[39m\u001b[38;5;124m\"\u001b[39m, squared\u001b[38;5;241m=\u001b[39m\u001b[38;5;28;01mTrue\u001b[39;00m\n\u001b[0;32m    416\u001b[0m ):\n\u001b[0;32m    417\u001b[0m \u001b[38;5;250m    \u001b[39m\u001b[38;5;124;03m\"\"\"Mean squared error regression loss.\u001b[39;00m\n\u001b[0;32m    418\u001b[0m \n\u001b[0;32m    419\u001b[0m \u001b[38;5;124;03m    Read more in the :ref:`User Guide <mean_squared_error>`.\u001b[39;00m\n\u001b[1;32m   (...)\u001b[0m\n\u001b[0;32m    472\u001b[0m \u001b[38;5;124;03m    0.825...\u001b[39;00m\n\u001b[0;32m    473\u001b[0m \u001b[38;5;124;03m    \"\"\"\u001b[39;00m\n\u001b[1;32m--> 474\u001b[0m     y_type, y_true, y_pred, multioutput \u001b[38;5;241m=\u001b[39m _check_reg_targets(\n\u001b[0;32m    475\u001b[0m         y_true, y_pred, multioutput\n\u001b[0;32m    476\u001b[0m     )\n\u001b[0;32m    477\u001b[0m     check_consistent_length(y_true, y_pred, sample_weight)\n\u001b[0;32m    478\u001b[0m     output_errors \u001b[38;5;241m=\u001b[39m np\u001b[38;5;241m.\u001b[39maverage((y_true \u001b[38;5;241m-\u001b[39m y_pred) \u001b[38;5;241m*\u001b[39m\u001b[38;5;241m*\u001b[39m \u001b[38;5;241m2\u001b[39m, axis\u001b[38;5;241m=\u001b[39m\u001b[38;5;241m0\u001b[39m, weights\u001b[38;5;241m=\u001b[39msample_weight)\n",
      "File \u001b[1;32mC:\\ProgramData\\anaconda3\\Lib\\site-packages\\sklearn\\metrics\\_regression.py:99\u001b[0m, in \u001b[0;36m_check_reg_targets\u001b[1;34m(y_true, y_pred, multioutput, dtype)\u001b[0m\n\u001b[0;32m     65\u001b[0m \u001b[38;5;28;01mdef\u001b[39;00m \u001b[38;5;21m_check_reg_targets\u001b[39m(y_true, y_pred, multioutput, dtype\u001b[38;5;241m=\u001b[39m\u001b[38;5;124m\"\u001b[39m\u001b[38;5;124mnumeric\u001b[39m\u001b[38;5;124m\"\u001b[39m):\n\u001b[0;32m     66\u001b[0m \u001b[38;5;250m    \u001b[39m\u001b[38;5;124;03m\"\"\"Check that y_true and y_pred belong to the same regression task.\u001b[39;00m\n\u001b[0;32m     67\u001b[0m \n\u001b[0;32m     68\u001b[0m \u001b[38;5;124;03m    Parameters\u001b[39;00m\n\u001b[1;32m   (...)\u001b[0m\n\u001b[0;32m     97\u001b[0m \u001b[38;5;124;03m        correct keyword.\u001b[39;00m\n\u001b[0;32m     98\u001b[0m \u001b[38;5;124;03m    \"\"\"\u001b[39;00m\n\u001b[1;32m---> 99\u001b[0m     check_consistent_length(y_true, y_pred)\n\u001b[0;32m    100\u001b[0m     y_true \u001b[38;5;241m=\u001b[39m check_array(y_true, ensure_2d\u001b[38;5;241m=\u001b[39m\u001b[38;5;28;01mFalse\u001b[39;00m, dtype\u001b[38;5;241m=\u001b[39mdtype)\n\u001b[0;32m    101\u001b[0m     y_pred \u001b[38;5;241m=\u001b[39m check_array(y_pred, ensure_2d\u001b[38;5;241m=\u001b[39m\u001b[38;5;28;01mFalse\u001b[39;00m, dtype\u001b[38;5;241m=\u001b[39mdtype)\n",
      "File \u001b[1;32mC:\\ProgramData\\anaconda3\\Lib\\site-packages\\sklearn\\utils\\validation.py:409\u001b[0m, in \u001b[0;36mcheck_consistent_length\u001b[1;34m(*arrays)\u001b[0m\n\u001b[0;32m    407\u001b[0m uniques \u001b[38;5;241m=\u001b[39m np\u001b[38;5;241m.\u001b[39munique(lengths)\n\u001b[0;32m    408\u001b[0m \u001b[38;5;28;01mif\u001b[39;00m \u001b[38;5;28mlen\u001b[39m(uniques) \u001b[38;5;241m>\u001b[39m \u001b[38;5;241m1\u001b[39m:\n\u001b[1;32m--> 409\u001b[0m     \u001b[38;5;28;01mraise\u001b[39;00m \u001b[38;5;167;01mValueError\u001b[39;00m(\n\u001b[0;32m    410\u001b[0m         \u001b[38;5;124m\"\u001b[39m\u001b[38;5;124mFound input variables with inconsistent numbers of samples: \u001b[39m\u001b[38;5;132;01m%r\u001b[39;00m\u001b[38;5;124m\"\u001b[39m\n\u001b[0;32m    411\u001b[0m         \u001b[38;5;241m%\u001b[39m [\u001b[38;5;28mint\u001b[39m(l) \u001b[38;5;28;01mfor\u001b[39;00m l \u001b[38;5;129;01min\u001b[39;00m lengths]\n\u001b[0;32m    412\u001b[0m     )\n",
      "\u001b[1;31mValueError\u001b[0m: Found input variables with inconsistent numbers of samples: [436, 109]"
     ]
    }
   ],
   "source": [
    "train_mse = mean_squared_error(y_train, y_pred)\n",
    "train_mae = mean_absolute_error(y_train, y_pred)\n",
    "train_r2 = r2_score(y_train, y_pred)\n",
    "train_rmse = np.sqrt(train_mse)"
   ]
  },
  {
   "cell_type": "code",
   "execution_count": 44,
   "id": "a7c366a8",
   "metadata": {},
   "outputs": [
    {
     "data": {
      "text/plain": [
       "984051.9236507412"
      ]
     },
     "execution_count": 44,
     "metadata": {},
     "output_type": "execute_result"
    }
   ],
   "source": [
    "train_mse\n",
    "train_mae\n",
    "train_r2 \n",
    "train_rmse "
   ]
  },
  {
   "cell_type": "code",
   "execution_count": null,
   "id": "84460e69",
   "metadata": {},
   "outputs": [],
   "source": []
  },
  {
   "cell_type": "code",
   "execution_count": null,
   "id": "f14e546e",
   "metadata": {},
   "outputs": [],
   "source": []
  },
  {
   "cell_type": "code",
   "execution_count": null,
   "id": "761ca0be",
   "metadata": {},
   "outputs": [],
   "source": []
  },
  {
   "cell_type": "code",
   "execution_count": null,
   "id": "cbd00f6e",
   "metadata": {},
   "outputs": [],
   "source": []
  },
  {
   "cell_type": "code",
   "execution_count": null,
   "id": "30f73e2c",
   "metadata": {},
   "outputs": [],
   "source": []
  },
  {
   "cell_type": "code",
   "execution_count": null,
   "id": "f40248ac",
   "metadata": {},
   "outputs": [],
   "source": []
  },
  {
   "cell_type": "code",
   "execution_count": null,
   "id": "e38b103e",
   "metadata": {},
   "outputs": [],
   "source": []
  },
  {
   "cell_type": "code",
   "execution_count": null,
   "id": "3b06a680",
   "metadata": {},
   "outputs": [],
   "source": []
  }
 ],
 "metadata": {
  "kernelspec": {
   "display_name": "Python 3 (ipykernel)",
   "language": "python",
   "name": "python3"
  },
  "language_info": {
   "codemirror_mode": {
    "name": "ipython",
    "version": 3
   },
   "file_extension": ".py",
   "mimetype": "text/x-python",
   "name": "python",
   "nbconvert_exporter": "python",
   "pygments_lexer": "ipython3",
   "version": "3.11.5"
  }
 },
 "nbformat": 4,
 "nbformat_minor": 5
}
